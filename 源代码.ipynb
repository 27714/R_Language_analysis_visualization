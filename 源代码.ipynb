{
 "cells": [
  {
   "cell_type": "markdown",
   "id": "f325143a",
   "metadata": {},
   "source": [
    "### 1.加载需要的程序包"
   ]
  },
  {
   "cell_type": "code",
   "execution_count": 1,
   "id": "5dd6157e",
   "metadata": {},
   "outputs": [
    {
     "name": "stderr",
     "output_type": "stream",
     "text": [
      "载入需要的程辑包：DBI\n",
      "\n",
      "\n",
      "载入程辑包：'mice'\n",
      "\n",
      "\n",
      "The following object is masked from 'package:stats':\n",
      "\n",
      "    filter\n",
      "\n",
      "\n",
      "The following objects are masked from 'package:base':\n",
      "\n",
      "    cbind, rbind\n",
      "\n",
      "\n",
      "\n",
      "载入程辑包：'dplyr'\n",
      "\n",
      "\n",
      "The following objects are masked from 'package:stats':\n",
      "\n",
      "    filter, lag\n",
      "\n",
      "\n",
      "The following objects are masked from 'package:base':\n",
      "\n",
      "    intersect, setdiff, setequal, union\n",
      "\n",
      "\n",
      "Package 'sm', version 2.2-5.7: type help(sm) for summary information\n",
      "\n"
     ]
    }
   ],
   "source": [
    "library(RMySQL)\n",
    "library(mice)\n",
    "library(dplyr)\n",
    "library(ggplot2)\n",
    "library(RColorBrewer)\n",
    "library(sm)\n"
   ]
  },
  {
   "cell_type": "markdown",
   "id": "cef8ee75",
   "metadata": {},
   "source": [
    "### 2.读取数据"
   ]
  },
  {
   "cell_type": "code",
   "execution_count": 2,
   "id": "fd22f293",
   "metadata": {},
   "outputs": [],
   "source": [
    "# 创建连接\n",
    "con <- dbConnect(MySQL(),\n",
    "                 user=\"root\",\n",
    "                 password=\"\",\n",
    "                 host=\"127.0.0.1\",\n",
    "                 port=3306,\n",
    "                 dbname=\"second\")"
   ]
  },
  {
   "cell_type": "code",
   "execution_count": 3,
   "id": "545a9287",
   "metadata": {},
   "outputs": [
    {
     "data": {
      "text/plain": [
       "<MySQLResult:2,0,0>"
      ]
     },
     "metadata": {},
     "output_type": "display_data"
    }
   ],
   "source": [
    "dbSendQuery(con,'set names gbk') \n",
    "\n",
    "## <MySQLResult:11,5,4>\n",
    "\n",
    "# 读取完整表\n",
    "file<-dbReadTable(con,'xu1')"
   ]
  },
  {
   "cell_type": "markdown",
   "id": "05c78bda",
   "metadata": {},
   "source": [
    "### 3.查看数据"
   ]
  },
  {
   "cell_type": "code",
   "execution_count": 4,
   "id": "304a0d90",
   "metadata": {},
   "outputs": [
    {
     "data": {
      "text/html": [
       "<table class=\"dataframe\">\n",
       "<caption>A data.frame: 6 × 7</caption>\n",
       "<thead>\n",
       "\t<tr><th></th><th scope=col>工作职称</th><th scope=col>发布时间</th><th scope=col>待遇</th><th scope=col>薪资</th><th scope=col>学历</th><th scope=col>经验</th><th scope=col>地区</th></tr>\n",
       "\t<tr><th></th><th scope=col>&lt;chr&gt;</th><th scope=col>&lt;chr&gt;</th><th scope=col>&lt;chr&gt;</th><th scope=col>&lt;dbl&gt;</th><th scope=col>&lt;chr&gt;</th><th scope=col>&lt;chr&gt;</th><th scope=col>&lt;chr&gt;</th></tr>\n",
       "</thead>\n",
       "<tbody>\n",
       "\t<tr><th scope=row>1</th><td>大数据运维工程师                               </td><td>05-10发布</td><td>统计数据平台</td><td>41958</td><td>本科</td><td>0</td><td>北京·朝阳区</td></tr>\n",
       "\t<tr><th scope=row>2</th><td>大数据分析师（实习生）                         </td><td>05-26发布</td><td>互联网      </td><td> 8000</td><td>大专</td><td>1</td><td>兰州       </td></tr>\n",
       "\t<tr><th scope=row>3</th><td>甘肃-IT-大客户销售经理/总监（政府、企业、金融）</td><td>04-17发布</td><td>计算机      </td><td>22500</td><td>本科</td><td>1</td><td>兰州       </td></tr>\n",
       "\t<tr><th scope=row>4</th><td>WW-大客户销售经理（甘肃）                      </td><td>05-26发布</td><td>数据分析    </td><td>12500</td><td>大专</td><td>5</td><td>兰州·城关区</td></tr>\n",
       "\t<tr><th scope=row>5</th><td>大客户销售代表                                 </td><td>05-25发布</td><td>五险一金    </td><td>15000</td><td>大专</td><td>1</td><td>武汉·江岸区</td></tr>\n",
       "\t<tr><th scope=row>6</th><td>大客户销售（兰州）                             </td><td>05-18发布</td><td>年终奖金    </td><td>18000</td><td>大专</td><td>5</td><td>兰州       </td></tr>\n",
       "</tbody>\n",
       "</table>\n"
      ],
      "text/latex": [
       "A data.frame: 6 × 7\n",
       "\\begin{tabular}{r|lllllll}\n",
       "  & 工作职称 & 发布时间 & 待遇 & 薪资 & 学历 & 经验 & 地区\\\\\n",
       "  & <chr> & <chr> & <chr> & <dbl> & <chr> & <chr> & <chr>\\\\\n",
       "\\hline\n",
       "\t1 & 大数据运维工程师                                & 05-10发布 & 统计数据平台 & 41958 & 本科 & 0 & 北京·朝阳区\\\\\n",
       "\t2 & 大数据分析师（实习生）                          & 05-26发布 & 互联网       &  8000 & 大专 & 1 & 兰州       \\\\\n",
       "\t3 & 甘肃-IT-大客户销售经理/总监（政府、企业、金融） & 04-17发布 & 计算机       & 22500 & 本科 & 1 & 兰州       \\\\\n",
       "\t4 & WW-大客户销售经理（甘肃）                       & 05-26发布 & 数据分析     & 12500 & 大专 & 5 & 兰州·城关区\\\\\n",
       "\t5 & 大客户销售代表                                  & 05-25发布 & 五险一金     & 15000 & 大专 & 1 & 武汉·江岸区\\\\\n",
       "\t6 & 大客户销售（兰州）                              & 05-18发布 & 年终奖金     & 18000 & 大专 & 5 & 兰州       \\\\\n",
       "\\end{tabular}\n"
      ],
      "text/markdown": [
       "\n",
       "A data.frame: 6 × 7\n",
       "\n",
       "| <!--/--> | 工作职称 &lt;chr&gt; | 发布时间 &lt;chr&gt; | 待遇 &lt;chr&gt; | 薪资 &lt;dbl&gt; | 学历 &lt;chr&gt; | 经验 &lt;chr&gt; | 地区 &lt;chr&gt; |\n",
       "|---|---|---|---|---|---|---|---|\n",
       "| 1 | 大数据运维工程师                                | 05-10发布 | 统计数据平台 | 41958 | 本科 | 0 | 北京·朝阳区 |\n",
       "| 2 | 大数据分析师（实习生）                          | 05-26发布 | 互联网       |  8000 | 大专 | 1 | 兰州        |\n",
       "| 3 | 甘肃-IT-大客户销售经理/总监（政府、企业、金融） | 04-17发布 | 计算机       | 22500 | 本科 | 1 | 兰州        |\n",
       "| 4 | WW-大客户销售经理（甘肃）                       | 05-26发布 | 数据分析     | 12500 | 大专 | 5 | 兰州·城关区 |\n",
       "| 5 | 大客户销售代表                                  | 05-25发布 | 五险一金     | 15000 | 大专 | 1 | 武汉·江岸区 |\n",
       "| 6 | 大客户销售（兰州）                              | 05-18发布 | 年终奖金     | 18000 | 大专 | 5 | 兰州        |\n",
       "\n"
      ],
      "text/plain": [
       "  工作职称                                        发布时间  待遇         薪资 \n",
       "1 大数据运维工程师                                05-10发布 统计数据平台 41958\n",
       "2 大数据分析师（实习生）                          05-26发布 互联网        8000\n",
       "3 甘肃-IT-大客户销售经理/总监（政府、企业、金融） 04-17发布 计算机       22500\n",
       "4 WW-大客户销售经理（甘肃）                       05-26发布 数据分析     12500\n",
       "5 大客户销售代表                                  05-25发布 五险一金     15000\n",
       "6 大客户销售（兰州）                              05-18发布 年终奖金     18000\n",
       "  学历 经验 地区       \n",
       "1 本科 0    北京·朝阳区\n",
       "2 大专 1    兰州       \n",
       "3 本科 1    兰州       \n",
       "4 大专 5    兰州·城关区\n",
       "5 大专 1    武汉·江岸区\n",
       "6 大专 5    兰州       "
      ]
     },
     "metadata": {},
     "output_type": "display_data"
    }
   ],
   "source": [
    "head(file)"
   ]
  },
  {
   "cell_type": "code",
   "execution_count": 5,
   "id": "46606a55",
   "metadata": {},
   "outputs": [],
   "source": [
    "file['薪资'] = as.numeric(unlist(file['薪资']))"
   ]
  },
  {
   "cell_type": "code",
   "execution_count": 6,
   "id": "9c4c4567",
   "metadata": {},
   "outputs": [
    {
     "data": {
      "text/html": [
       "<table class=\"dataframe\">\n",
       "<caption>A data.frame: 6 × 7</caption>\n",
       "<thead>\n",
       "\t<tr><th></th><th scope=col>工作职称</th><th scope=col>发布时间</th><th scope=col>待遇</th><th scope=col>薪资</th><th scope=col>学历</th><th scope=col>经验</th><th scope=col>地区</th></tr>\n",
       "\t<tr><th></th><th scope=col>&lt;chr&gt;</th><th scope=col>&lt;chr&gt;</th><th scope=col>&lt;chr&gt;</th><th scope=col>&lt;dbl&gt;</th><th scope=col>&lt;chr&gt;</th><th scope=col>&lt;chr&gt;</th><th scope=col>&lt;chr&gt;</th></tr>\n",
       "</thead>\n",
       "<tbody>\n",
       "\t<tr><th scope=row>1</th><td>大数据运维工程师                               </td><td>05-10发布</td><td>统计数据平台</td><td>41958</td><td>本科</td><td>0</td><td>北京·朝阳区</td></tr>\n",
       "\t<tr><th scope=row>2</th><td>大数据分析师（实习生）                         </td><td>05-26发布</td><td>互联网      </td><td> 8000</td><td>大专</td><td>1</td><td>兰州       </td></tr>\n",
       "\t<tr><th scope=row>3</th><td>甘肃-IT-大客户销售经理/总监（政府、企业、金融）</td><td>04-17发布</td><td>计算机      </td><td>22500</td><td>本科</td><td>1</td><td>兰州       </td></tr>\n",
       "\t<tr><th scope=row>4</th><td>WW-大客户销售经理（甘肃）                      </td><td>05-26发布</td><td>数据分析    </td><td>12500</td><td>大专</td><td>5</td><td>兰州·城关区</td></tr>\n",
       "\t<tr><th scope=row>5</th><td>大客户销售代表                                 </td><td>05-25发布</td><td>五险一金    </td><td>15000</td><td>大专</td><td>1</td><td>武汉·江岸区</td></tr>\n",
       "\t<tr><th scope=row>6</th><td>大客户销售（兰州）                             </td><td>05-18发布</td><td>年终奖金    </td><td>18000</td><td>大专</td><td>5</td><td>兰州       </td></tr>\n",
       "</tbody>\n",
       "</table>\n"
      ],
      "text/latex": [
       "A data.frame: 6 × 7\n",
       "\\begin{tabular}{r|lllllll}\n",
       "  & 工作职称 & 发布时间 & 待遇 & 薪资 & 学历 & 经验 & 地区\\\\\n",
       "  & <chr> & <chr> & <chr> & <dbl> & <chr> & <chr> & <chr>\\\\\n",
       "\\hline\n",
       "\t1 & 大数据运维工程师                                & 05-10发布 & 统计数据平台 & 41958 & 本科 & 0 & 北京·朝阳区\\\\\n",
       "\t2 & 大数据分析师（实习生）                          & 05-26发布 & 互联网       &  8000 & 大专 & 1 & 兰州       \\\\\n",
       "\t3 & 甘肃-IT-大客户销售经理/总监（政府、企业、金融） & 04-17发布 & 计算机       & 22500 & 本科 & 1 & 兰州       \\\\\n",
       "\t4 & WW-大客户销售经理（甘肃）                       & 05-26发布 & 数据分析     & 12500 & 大专 & 5 & 兰州·城关区\\\\\n",
       "\t5 & 大客户销售代表                                  & 05-25发布 & 五险一金     & 15000 & 大专 & 1 & 武汉·江岸区\\\\\n",
       "\t6 & 大客户销售（兰州）                              & 05-18发布 & 年终奖金     & 18000 & 大专 & 5 & 兰州       \\\\\n",
       "\\end{tabular}\n"
      ],
      "text/markdown": [
       "\n",
       "A data.frame: 6 × 7\n",
       "\n",
       "| <!--/--> | 工作职称 &lt;chr&gt; | 发布时间 &lt;chr&gt; | 待遇 &lt;chr&gt; | 薪资 &lt;dbl&gt; | 学历 &lt;chr&gt; | 经验 &lt;chr&gt; | 地区 &lt;chr&gt; |\n",
       "|---|---|---|---|---|---|---|---|\n",
       "| 1 | 大数据运维工程师                                | 05-10发布 | 统计数据平台 | 41958 | 本科 | 0 | 北京·朝阳区 |\n",
       "| 2 | 大数据分析师（实习生）                          | 05-26发布 | 互联网       |  8000 | 大专 | 1 | 兰州        |\n",
       "| 3 | 甘肃-IT-大客户销售经理/总监（政府、企业、金融） | 04-17发布 | 计算机       | 22500 | 本科 | 1 | 兰州        |\n",
       "| 4 | WW-大客户销售经理（甘肃）                       | 05-26发布 | 数据分析     | 12500 | 大专 | 5 | 兰州·城关区 |\n",
       "| 5 | 大客户销售代表                                  | 05-25发布 | 五险一金     | 15000 | 大专 | 1 | 武汉·江岸区 |\n",
       "| 6 | 大客户销售（兰州）                              | 05-18发布 | 年终奖金     | 18000 | 大专 | 5 | 兰州        |\n",
       "\n"
      ],
      "text/plain": [
       "  工作职称                                        发布时间  待遇         薪资 \n",
       "1 大数据运维工程师                                05-10发布 统计数据平台 41958\n",
       "2 大数据分析师（实习生）                          05-26发布 互联网        8000\n",
       "3 甘肃-IT-大客户销售经理/总监（政府、企业、金融） 04-17发布 计算机       22500\n",
       "4 WW-大客户销售经理（甘肃）                       05-26发布 数据分析     12500\n",
       "5 大客户销售代表                                  05-25发布 五险一金     15000\n",
       "6 大客户销售（兰州）                              05-18发布 年终奖金     18000\n",
       "  学历 经验 地区       \n",
       "1 本科 0    北京·朝阳区\n",
       "2 大专 1    兰州       \n",
       "3 本科 1    兰州       \n",
       "4 大专 5    兰州·城关区\n",
       "5 大专 1    武汉·江岸区\n",
       "6 大专 5    兰州       "
      ]
     },
     "metadata": {},
     "output_type": "display_data"
    }
   ],
   "source": [
    "head(file)"
   ]
  },
  {
   "cell_type": "markdown",
   "id": "1c3056f4",
   "metadata": {},
   "source": [
    "### 4.查看数据是否有缺失行"
   ]
  },
  {
   "cell_type": "code",
   "execution_count": 7,
   "id": "adbeef89",
   "metadata": {},
   "outputs": [
    {
     "data": {
      "text/html": [
       "<table class=\"dataframe\">\n",
       "<caption>A matrix: 133 × 7 of type lgl</caption>\n",
       "<thead>\n",
       "\t<tr><th scope=col>工作职称</th><th scope=col>发布时间</th><th scope=col>待遇</th><th scope=col>薪资</th><th scope=col>学历</th><th scope=col>经验</th><th scope=col>地区</th></tr>\n",
       "</thead>\n",
       "<tbody>\n",
       "\t<tr><td>FALSE</td><td>FALSE</td><td>FALSE</td><td>FALSE</td><td>FALSE</td><td>FALSE</td><td>FALSE</td></tr>\n",
       "\t<tr><td>FALSE</td><td>FALSE</td><td>FALSE</td><td>FALSE</td><td>FALSE</td><td>FALSE</td><td>FALSE</td></tr>\n",
       "\t<tr><td>FALSE</td><td>FALSE</td><td>FALSE</td><td>FALSE</td><td>FALSE</td><td>FALSE</td><td>FALSE</td></tr>\n",
       "\t<tr><td>FALSE</td><td>FALSE</td><td>FALSE</td><td>FALSE</td><td>FALSE</td><td>FALSE</td><td>FALSE</td></tr>\n",
       "\t<tr><td>FALSE</td><td>FALSE</td><td>FALSE</td><td>FALSE</td><td>FALSE</td><td>FALSE</td><td>FALSE</td></tr>\n",
       "\t<tr><td>FALSE</td><td>FALSE</td><td>FALSE</td><td>FALSE</td><td>FALSE</td><td>FALSE</td><td>FALSE</td></tr>\n",
       "\t<tr><td>FALSE</td><td>FALSE</td><td> TRUE</td><td>FALSE</td><td>FALSE</td><td>FALSE</td><td>FALSE</td></tr>\n",
       "\t<tr><td>FALSE</td><td>FALSE</td><td> TRUE</td><td>FALSE</td><td>FALSE</td><td>FALSE</td><td>FALSE</td></tr>\n",
       "\t<tr><td>FALSE</td><td>FALSE</td><td> TRUE</td><td>FALSE</td><td>FALSE</td><td>FALSE</td><td>FALSE</td></tr>\n",
       "\t<tr><td>FALSE</td><td>FALSE</td><td> TRUE</td><td>FALSE</td><td>FALSE</td><td>FALSE</td><td>FALSE</td></tr>\n",
       "\t<tr><td>FALSE</td><td>FALSE</td><td> TRUE</td><td>FALSE</td><td>FALSE</td><td>FALSE</td><td>FALSE</td></tr>\n",
       "\t<tr><td>FALSE</td><td>FALSE</td><td>FALSE</td><td>FALSE</td><td>FALSE</td><td>FALSE</td><td>FALSE</td></tr>\n",
       "\t<tr><td>FALSE</td><td>FALSE</td><td>FALSE</td><td>FALSE</td><td>FALSE</td><td>FALSE</td><td>FALSE</td></tr>\n",
       "\t<tr><td>FALSE</td><td>FALSE</td><td>FALSE</td><td>FALSE</td><td>FALSE</td><td>FALSE</td><td>FALSE</td></tr>\n",
       "\t<tr><td>FALSE</td><td>FALSE</td><td>FALSE</td><td>FALSE</td><td>FALSE</td><td>FALSE</td><td>FALSE</td></tr>\n",
       "\t<tr><td>FALSE</td><td>FALSE</td><td>FALSE</td><td>FALSE</td><td>FALSE</td><td>FALSE</td><td>FALSE</td></tr>\n",
       "\t<tr><td>FALSE</td><td>FALSE</td><td>FALSE</td><td>FALSE</td><td>FALSE</td><td>FALSE</td><td>FALSE</td></tr>\n",
       "\t<tr><td>FALSE</td><td>FALSE</td><td>FALSE</td><td>FALSE</td><td>FALSE</td><td>FALSE</td><td>FALSE</td></tr>\n",
       "\t<tr><td>FALSE</td><td>FALSE</td><td>FALSE</td><td>FALSE</td><td>FALSE</td><td>FALSE</td><td>FALSE</td></tr>\n",
       "\t<tr><td>FALSE</td><td>FALSE</td><td>FALSE</td><td>FALSE</td><td>FALSE</td><td>FALSE</td><td>FALSE</td></tr>\n",
       "\t<tr><td>FALSE</td><td>FALSE</td><td>FALSE</td><td>FALSE</td><td>FALSE</td><td>FALSE</td><td>FALSE</td></tr>\n",
       "\t<tr><td>FALSE</td><td>FALSE</td><td>FALSE</td><td>FALSE</td><td>FALSE</td><td>FALSE</td><td>FALSE</td></tr>\n",
       "\t<tr><td>FALSE</td><td>FALSE</td><td>FALSE</td><td>FALSE</td><td>FALSE</td><td>FALSE</td><td>FALSE</td></tr>\n",
       "\t<tr><td>FALSE</td><td>FALSE</td><td>FALSE</td><td>FALSE</td><td>FALSE</td><td>FALSE</td><td>FALSE</td></tr>\n",
       "\t<tr><td>FALSE</td><td>FALSE</td><td>FALSE</td><td>FALSE</td><td>FALSE</td><td>FALSE</td><td>FALSE</td></tr>\n",
       "\t<tr><td>FALSE</td><td>FALSE</td><td> TRUE</td><td>FALSE</td><td>FALSE</td><td>FALSE</td><td>FALSE</td></tr>\n",
       "\t<tr><td>FALSE</td><td>FALSE</td><td> TRUE</td><td>FALSE</td><td>FALSE</td><td>FALSE</td><td>FALSE</td></tr>\n",
       "\t<tr><td>FALSE</td><td>FALSE</td><td> TRUE</td><td>FALSE</td><td>FALSE</td><td>FALSE</td><td>FALSE</td></tr>\n",
       "\t<tr><td>FALSE</td><td>FALSE</td><td> TRUE</td><td>FALSE</td><td>FALSE</td><td>FALSE</td><td>FALSE</td></tr>\n",
       "\t<tr><td>FALSE</td><td>FALSE</td><td> TRUE</td><td>FALSE</td><td>FALSE</td><td>FALSE</td><td>FALSE</td></tr>\n",
       "\t<tr><td>...</td><td>...</td><td>...</td><td>...</td><td>...</td><td>...</td><td>...</td></tr>\n",
       "\t<tr><td>FALSE</td><td>FALSE</td><td> TRUE</td><td>FALSE</td><td>FALSE</td><td>FALSE</td><td>FALSE</td></tr>\n",
       "\t<tr><td>FALSE</td><td>FALSE</td><td> TRUE</td><td>FALSE</td><td>FALSE</td><td>FALSE</td><td>FALSE</td></tr>\n",
       "\t<tr><td>FALSE</td><td>FALSE</td><td> TRUE</td><td>FALSE</td><td>FALSE</td><td>FALSE</td><td>FALSE</td></tr>\n",
       "\t<tr><td>FALSE</td><td>FALSE</td><td>FALSE</td><td>FALSE</td><td>FALSE</td><td>FALSE</td><td>FALSE</td></tr>\n",
       "\t<tr><td>FALSE</td><td>FALSE</td><td>FALSE</td><td>FALSE</td><td>FALSE</td><td>FALSE</td><td>FALSE</td></tr>\n",
       "\t<tr><td>FALSE</td><td>FALSE</td><td>FALSE</td><td>FALSE</td><td>FALSE</td><td>FALSE</td><td>FALSE</td></tr>\n",
       "\t<tr><td>FALSE</td><td>FALSE</td><td>FALSE</td><td>FALSE</td><td>FALSE</td><td>FALSE</td><td>FALSE</td></tr>\n",
       "\t<tr><td>FALSE</td><td>FALSE</td><td>FALSE</td><td>FALSE</td><td>FALSE</td><td>FALSE</td><td>FALSE</td></tr>\n",
       "\t<tr><td>FALSE</td><td>FALSE</td><td>FALSE</td><td>FALSE</td><td>FALSE</td><td>FALSE</td><td>FALSE</td></tr>\n",
       "\t<tr><td>FALSE</td><td>FALSE</td><td>FALSE</td><td>FALSE</td><td>FALSE</td><td>FALSE</td><td>FALSE</td></tr>\n",
       "\t<tr><td>FALSE</td><td>FALSE</td><td>FALSE</td><td>FALSE</td><td>FALSE</td><td>FALSE</td><td>FALSE</td></tr>\n",
       "\t<tr><td>FALSE</td><td>FALSE</td><td>FALSE</td><td>FALSE</td><td>FALSE</td><td>FALSE</td><td>FALSE</td></tr>\n",
       "\t<tr><td>FALSE</td><td>FALSE</td><td>FALSE</td><td>FALSE</td><td>FALSE</td><td>FALSE</td><td>FALSE</td></tr>\n",
       "\t<tr><td>FALSE</td><td>FALSE</td><td>FALSE</td><td>FALSE</td><td>FALSE</td><td>FALSE</td><td>FALSE</td></tr>\n",
       "\t<tr><td>FALSE</td><td>FALSE</td><td>FALSE</td><td>FALSE</td><td>FALSE</td><td>FALSE</td><td>FALSE</td></tr>\n",
       "\t<tr><td>FALSE</td><td>FALSE</td><td>FALSE</td><td>FALSE</td><td>FALSE</td><td>FALSE</td><td>FALSE</td></tr>\n",
       "\t<tr><td>FALSE</td><td>FALSE</td><td>FALSE</td><td>FALSE</td><td>FALSE</td><td>FALSE</td><td>FALSE</td></tr>\n",
       "\t<tr><td>FALSE</td><td>FALSE</td><td> TRUE</td><td>FALSE</td><td>FALSE</td><td>FALSE</td><td>FALSE</td></tr>\n",
       "\t<tr><td>FALSE</td><td>FALSE</td><td> TRUE</td><td>FALSE</td><td>FALSE</td><td>FALSE</td><td>FALSE</td></tr>\n",
       "\t<tr><td>FALSE</td><td>FALSE</td><td> TRUE</td><td>FALSE</td><td>FALSE</td><td>FALSE</td><td>FALSE</td></tr>\n",
       "\t<tr><td>FALSE</td><td>FALSE</td><td> TRUE</td><td>FALSE</td><td>FALSE</td><td>FALSE</td><td>FALSE</td></tr>\n",
       "\t<tr><td>FALSE</td><td>FALSE</td><td> TRUE</td><td>FALSE</td><td>FALSE</td><td>FALSE</td><td>FALSE</td></tr>\n",
       "\t<tr><td>FALSE</td><td>FALSE</td><td>FALSE</td><td>FALSE</td><td>FALSE</td><td>FALSE</td><td>FALSE</td></tr>\n",
       "\t<tr><td>FALSE</td><td>FALSE</td><td>FALSE</td><td>FALSE</td><td>FALSE</td><td>FALSE</td><td>FALSE</td></tr>\n",
       "\t<tr><td>FALSE</td><td>FALSE</td><td>FALSE</td><td>FALSE</td><td>FALSE</td><td>FALSE</td><td>FALSE</td></tr>\n",
       "\t<tr><td>FALSE</td><td>FALSE</td><td>FALSE</td><td>FALSE</td><td>FALSE</td><td>FALSE</td><td>FALSE</td></tr>\n",
       "\t<tr><td>FALSE</td><td>FALSE</td><td>FALSE</td><td>FALSE</td><td>FALSE</td><td>FALSE</td><td>FALSE</td></tr>\n",
       "\t<tr><td>FALSE</td><td>FALSE</td><td>FALSE</td><td>FALSE</td><td>FALSE</td><td>FALSE</td><td>FALSE</td></tr>\n",
       "\t<tr><td>FALSE</td><td>FALSE</td><td>FALSE</td><td>FALSE</td><td>FALSE</td><td>FALSE</td><td>FALSE</td></tr>\n",
       "\t<tr><td>FALSE</td><td>FALSE</td><td>FALSE</td><td>FALSE</td><td>FALSE</td><td>FALSE</td><td>FALSE</td></tr>\n",
       "</tbody>\n",
       "</table>\n"
      ],
      "text/latex": [
       "A matrix: 133 × 7 of type lgl\n",
       "\\begin{tabular}{lllllll}\n",
       " 工作职称 & 发布时间 & 待遇 & 薪资 & 学历 & 经验 & 地区\\\\\n",
       "\\hline\n",
       "\t FALSE & FALSE & FALSE & FALSE & FALSE & FALSE & FALSE\\\\\n",
       "\t FALSE & FALSE & FALSE & FALSE & FALSE & FALSE & FALSE\\\\\n",
       "\t FALSE & FALSE & FALSE & FALSE & FALSE & FALSE & FALSE\\\\\n",
       "\t FALSE & FALSE & FALSE & FALSE & FALSE & FALSE & FALSE\\\\\n",
       "\t FALSE & FALSE & FALSE & FALSE & FALSE & FALSE & FALSE\\\\\n",
       "\t FALSE & FALSE & FALSE & FALSE & FALSE & FALSE & FALSE\\\\\n",
       "\t FALSE & FALSE &  TRUE & FALSE & FALSE & FALSE & FALSE\\\\\n",
       "\t FALSE & FALSE &  TRUE & FALSE & FALSE & FALSE & FALSE\\\\\n",
       "\t FALSE & FALSE &  TRUE & FALSE & FALSE & FALSE & FALSE\\\\\n",
       "\t FALSE & FALSE &  TRUE & FALSE & FALSE & FALSE & FALSE\\\\\n",
       "\t FALSE & FALSE &  TRUE & FALSE & FALSE & FALSE & FALSE\\\\\n",
       "\t FALSE & FALSE & FALSE & FALSE & FALSE & FALSE & FALSE\\\\\n",
       "\t FALSE & FALSE & FALSE & FALSE & FALSE & FALSE & FALSE\\\\\n",
       "\t FALSE & FALSE & FALSE & FALSE & FALSE & FALSE & FALSE\\\\\n",
       "\t FALSE & FALSE & FALSE & FALSE & FALSE & FALSE & FALSE\\\\\n",
       "\t FALSE & FALSE & FALSE & FALSE & FALSE & FALSE & FALSE\\\\\n",
       "\t FALSE & FALSE & FALSE & FALSE & FALSE & FALSE & FALSE\\\\\n",
       "\t FALSE & FALSE & FALSE & FALSE & FALSE & FALSE & FALSE\\\\\n",
       "\t FALSE & FALSE & FALSE & FALSE & FALSE & FALSE & FALSE\\\\\n",
       "\t FALSE & FALSE & FALSE & FALSE & FALSE & FALSE & FALSE\\\\\n",
       "\t FALSE & FALSE & FALSE & FALSE & FALSE & FALSE & FALSE\\\\\n",
       "\t FALSE & FALSE & FALSE & FALSE & FALSE & FALSE & FALSE\\\\\n",
       "\t FALSE & FALSE & FALSE & FALSE & FALSE & FALSE & FALSE\\\\\n",
       "\t FALSE & FALSE & FALSE & FALSE & FALSE & FALSE & FALSE\\\\\n",
       "\t FALSE & FALSE & FALSE & FALSE & FALSE & FALSE & FALSE\\\\\n",
       "\t FALSE & FALSE &  TRUE & FALSE & FALSE & FALSE & FALSE\\\\\n",
       "\t FALSE & FALSE &  TRUE & FALSE & FALSE & FALSE & FALSE\\\\\n",
       "\t FALSE & FALSE &  TRUE & FALSE & FALSE & FALSE & FALSE\\\\\n",
       "\t FALSE & FALSE &  TRUE & FALSE & FALSE & FALSE & FALSE\\\\\n",
       "\t FALSE & FALSE &  TRUE & FALSE & FALSE & FALSE & FALSE\\\\\n",
       "\t ... & ... & ... & ... & ... & ... & ...\\\\\n",
       "\t FALSE & FALSE &  TRUE & FALSE & FALSE & FALSE & FALSE\\\\\n",
       "\t FALSE & FALSE &  TRUE & FALSE & FALSE & FALSE & FALSE\\\\\n",
       "\t FALSE & FALSE &  TRUE & FALSE & FALSE & FALSE & FALSE\\\\\n",
       "\t FALSE & FALSE & FALSE & FALSE & FALSE & FALSE & FALSE\\\\\n",
       "\t FALSE & FALSE & FALSE & FALSE & FALSE & FALSE & FALSE\\\\\n",
       "\t FALSE & FALSE & FALSE & FALSE & FALSE & FALSE & FALSE\\\\\n",
       "\t FALSE & FALSE & FALSE & FALSE & FALSE & FALSE & FALSE\\\\\n",
       "\t FALSE & FALSE & FALSE & FALSE & FALSE & FALSE & FALSE\\\\\n",
       "\t FALSE & FALSE & FALSE & FALSE & FALSE & FALSE & FALSE\\\\\n",
       "\t FALSE & FALSE & FALSE & FALSE & FALSE & FALSE & FALSE\\\\\n",
       "\t FALSE & FALSE & FALSE & FALSE & FALSE & FALSE & FALSE\\\\\n",
       "\t FALSE & FALSE & FALSE & FALSE & FALSE & FALSE & FALSE\\\\\n",
       "\t FALSE & FALSE & FALSE & FALSE & FALSE & FALSE & FALSE\\\\\n",
       "\t FALSE & FALSE & FALSE & FALSE & FALSE & FALSE & FALSE\\\\\n",
       "\t FALSE & FALSE & FALSE & FALSE & FALSE & FALSE & FALSE\\\\\n",
       "\t FALSE & FALSE & FALSE & FALSE & FALSE & FALSE & FALSE\\\\\n",
       "\t FALSE & FALSE & FALSE & FALSE & FALSE & FALSE & FALSE\\\\\n",
       "\t FALSE & FALSE &  TRUE & FALSE & FALSE & FALSE & FALSE\\\\\n",
       "\t FALSE & FALSE &  TRUE & FALSE & FALSE & FALSE & FALSE\\\\\n",
       "\t FALSE & FALSE &  TRUE & FALSE & FALSE & FALSE & FALSE\\\\\n",
       "\t FALSE & FALSE &  TRUE & FALSE & FALSE & FALSE & FALSE\\\\\n",
       "\t FALSE & FALSE &  TRUE & FALSE & FALSE & FALSE & FALSE\\\\\n",
       "\t FALSE & FALSE & FALSE & FALSE & FALSE & FALSE & FALSE\\\\\n",
       "\t FALSE & FALSE & FALSE & FALSE & FALSE & FALSE & FALSE\\\\\n",
       "\t FALSE & FALSE & FALSE & FALSE & FALSE & FALSE & FALSE\\\\\n",
       "\t FALSE & FALSE & FALSE & FALSE & FALSE & FALSE & FALSE\\\\\n",
       "\t FALSE & FALSE & FALSE & FALSE & FALSE & FALSE & FALSE\\\\\n",
       "\t FALSE & FALSE & FALSE & FALSE & FALSE & FALSE & FALSE\\\\\n",
       "\t FALSE & FALSE & FALSE & FALSE & FALSE & FALSE & FALSE\\\\\n",
       "\t FALSE & FALSE & FALSE & FALSE & FALSE & FALSE & FALSE\\\\\n",
       "\\end{tabular}\n"
      ],
      "text/markdown": [
       "\n",
       "A matrix: 133 × 7 of type lgl\n",
       "\n",
       "| 工作职称 | 发布时间 | 待遇 | 薪资 | 学历 | 经验 | 地区 |\n",
       "|---|---|---|---|---|---|---|\n",
       "| FALSE | FALSE | FALSE | FALSE | FALSE | FALSE | FALSE |\n",
       "| FALSE | FALSE | FALSE | FALSE | FALSE | FALSE | FALSE |\n",
       "| FALSE | FALSE | FALSE | FALSE | FALSE | FALSE | FALSE |\n",
       "| FALSE | FALSE | FALSE | FALSE | FALSE | FALSE | FALSE |\n",
       "| FALSE | FALSE | FALSE | FALSE | FALSE | FALSE | FALSE |\n",
       "| FALSE | FALSE | FALSE | FALSE | FALSE | FALSE | FALSE |\n",
       "| FALSE | FALSE |  TRUE | FALSE | FALSE | FALSE | FALSE |\n",
       "| FALSE | FALSE |  TRUE | FALSE | FALSE | FALSE | FALSE |\n",
       "| FALSE | FALSE |  TRUE | FALSE | FALSE | FALSE | FALSE |\n",
       "| FALSE | FALSE |  TRUE | FALSE | FALSE | FALSE | FALSE |\n",
       "| FALSE | FALSE |  TRUE | FALSE | FALSE | FALSE | FALSE |\n",
       "| FALSE | FALSE | FALSE | FALSE | FALSE | FALSE | FALSE |\n",
       "| FALSE | FALSE | FALSE | FALSE | FALSE | FALSE | FALSE |\n",
       "| FALSE | FALSE | FALSE | FALSE | FALSE | FALSE | FALSE |\n",
       "| FALSE | FALSE | FALSE | FALSE | FALSE | FALSE | FALSE |\n",
       "| FALSE | FALSE | FALSE | FALSE | FALSE | FALSE | FALSE |\n",
       "| FALSE | FALSE | FALSE | FALSE | FALSE | FALSE | FALSE |\n",
       "| FALSE | FALSE | FALSE | FALSE | FALSE | FALSE | FALSE |\n",
       "| FALSE | FALSE | FALSE | FALSE | FALSE | FALSE | FALSE |\n",
       "| FALSE | FALSE | FALSE | FALSE | FALSE | FALSE | FALSE |\n",
       "| FALSE | FALSE | FALSE | FALSE | FALSE | FALSE | FALSE |\n",
       "| FALSE | FALSE | FALSE | FALSE | FALSE | FALSE | FALSE |\n",
       "| FALSE | FALSE | FALSE | FALSE | FALSE | FALSE | FALSE |\n",
       "| FALSE | FALSE | FALSE | FALSE | FALSE | FALSE | FALSE |\n",
       "| FALSE | FALSE | FALSE | FALSE | FALSE | FALSE | FALSE |\n",
       "| FALSE | FALSE |  TRUE | FALSE | FALSE | FALSE | FALSE |\n",
       "| FALSE | FALSE |  TRUE | FALSE | FALSE | FALSE | FALSE |\n",
       "| FALSE | FALSE |  TRUE | FALSE | FALSE | FALSE | FALSE |\n",
       "| FALSE | FALSE |  TRUE | FALSE | FALSE | FALSE | FALSE |\n",
       "| FALSE | FALSE |  TRUE | FALSE | FALSE | FALSE | FALSE |\n",
       "| ... | ... | ... | ... | ... | ... | ... |\n",
       "| FALSE | FALSE |  TRUE | FALSE | FALSE | FALSE | FALSE |\n",
       "| FALSE | FALSE |  TRUE | FALSE | FALSE | FALSE | FALSE |\n",
       "| FALSE | FALSE |  TRUE | FALSE | FALSE | FALSE | FALSE |\n",
       "| FALSE | FALSE | FALSE | FALSE | FALSE | FALSE | FALSE |\n",
       "| FALSE | FALSE | FALSE | FALSE | FALSE | FALSE | FALSE |\n",
       "| FALSE | FALSE | FALSE | FALSE | FALSE | FALSE | FALSE |\n",
       "| FALSE | FALSE | FALSE | FALSE | FALSE | FALSE | FALSE |\n",
       "| FALSE | FALSE | FALSE | FALSE | FALSE | FALSE | FALSE |\n",
       "| FALSE | FALSE | FALSE | FALSE | FALSE | FALSE | FALSE |\n",
       "| FALSE | FALSE | FALSE | FALSE | FALSE | FALSE | FALSE |\n",
       "| FALSE | FALSE | FALSE | FALSE | FALSE | FALSE | FALSE |\n",
       "| FALSE | FALSE | FALSE | FALSE | FALSE | FALSE | FALSE |\n",
       "| FALSE | FALSE | FALSE | FALSE | FALSE | FALSE | FALSE |\n",
       "| FALSE | FALSE | FALSE | FALSE | FALSE | FALSE | FALSE |\n",
       "| FALSE | FALSE | FALSE | FALSE | FALSE | FALSE | FALSE |\n",
       "| FALSE | FALSE | FALSE | FALSE | FALSE | FALSE | FALSE |\n",
       "| FALSE | FALSE | FALSE | FALSE | FALSE | FALSE | FALSE |\n",
       "| FALSE | FALSE |  TRUE | FALSE | FALSE | FALSE | FALSE |\n",
       "| FALSE | FALSE |  TRUE | FALSE | FALSE | FALSE | FALSE |\n",
       "| FALSE | FALSE |  TRUE | FALSE | FALSE | FALSE | FALSE |\n",
       "| FALSE | FALSE |  TRUE | FALSE | FALSE | FALSE | FALSE |\n",
       "| FALSE | FALSE |  TRUE | FALSE | FALSE | FALSE | FALSE |\n",
       "| FALSE | FALSE | FALSE | FALSE | FALSE | FALSE | FALSE |\n",
       "| FALSE | FALSE | FALSE | FALSE | FALSE | FALSE | FALSE |\n",
       "| FALSE | FALSE | FALSE | FALSE | FALSE | FALSE | FALSE |\n",
       "| FALSE | FALSE | FALSE | FALSE | FALSE | FALSE | FALSE |\n",
       "| FALSE | FALSE | FALSE | FALSE | FALSE | FALSE | FALSE |\n",
       "| FALSE | FALSE | FALSE | FALSE | FALSE | FALSE | FALSE |\n",
       "| FALSE | FALSE | FALSE | FALSE | FALSE | FALSE | FALSE |\n",
       "| FALSE | FALSE | FALSE | FALSE | FALSE | FALSE | FALSE |\n",
       "\n"
      ],
      "text/plain": [
       "      工作职称 发布时间 待遇  薪资  学历  经验  地区 \n",
       " [1,] FALSE    FALSE    FALSE FALSE FALSE FALSE FALSE\n",
       " [2,] FALSE    FALSE    FALSE FALSE FALSE FALSE FALSE\n",
       " [3,] FALSE    FALSE    FALSE FALSE FALSE FALSE FALSE\n",
       " [4,] FALSE    FALSE    FALSE FALSE FALSE FALSE FALSE\n",
       " [5,] FALSE    FALSE    FALSE FALSE FALSE FALSE FALSE\n",
       " [6,] FALSE    FALSE    FALSE FALSE FALSE FALSE FALSE\n",
       " [7,] FALSE    FALSE     TRUE FALSE FALSE FALSE FALSE\n",
       " [8,] FALSE    FALSE     TRUE FALSE FALSE FALSE FALSE\n",
       " [9,] FALSE    FALSE     TRUE FALSE FALSE FALSE FALSE\n",
       "[10,] FALSE    FALSE     TRUE FALSE FALSE FALSE FALSE\n",
       "[11,] FALSE    FALSE     TRUE FALSE FALSE FALSE FALSE\n",
       "[12,] FALSE    FALSE    FALSE FALSE FALSE FALSE FALSE\n",
       "[13,] FALSE    FALSE    FALSE FALSE FALSE FALSE FALSE\n",
       "[14,] FALSE    FALSE    FALSE FALSE FALSE FALSE FALSE\n",
       "[15,] FALSE    FALSE    FALSE FALSE FALSE FALSE FALSE\n",
       "[16,] FALSE    FALSE    FALSE FALSE FALSE FALSE FALSE\n",
       "[17,] FALSE    FALSE    FALSE FALSE FALSE FALSE FALSE\n",
       "[18,] FALSE    FALSE    FALSE FALSE FALSE FALSE FALSE\n",
       "[19,] FALSE    FALSE    FALSE FALSE FALSE FALSE FALSE\n",
       "[20,] FALSE    FALSE    FALSE FALSE FALSE FALSE FALSE\n",
       "[21,] FALSE    FALSE    FALSE FALSE FALSE FALSE FALSE\n",
       "[22,] FALSE    FALSE    FALSE FALSE FALSE FALSE FALSE\n",
       "[23,] FALSE    FALSE    FALSE FALSE FALSE FALSE FALSE\n",
       "[24,] FALSE    FALSE    FALSE FALSE FALSE FALSE FALSE\n",
       "[25,] FALSE    FALSE    FALSE FALSE FALSE FALSE FALSE\n",
       "[26,] FALSE    FALSE     TRUE FALSE FALSE FALSE FALSE\n",
       "[27,] FALSE    FALSE     TRUE FALSE FALSE FALSE FALSE\n",
       "[28,] FALSE    FALSE     TRUE FALSE FALSE FALSE FALSE\n",
       "[29,] FALSE    FALSE     TRUE FALSE FALSE FALSE FALSE\n",
       "[30,] FALSE    FALSE     TRUE FALSE FALSE FALSE FALSE\n",
       "[31,] ...      ...      ...   ...   ...   ...   ...  \n",
       "[32,] FALSE    FALSE     TRUE FALSE FALSE FALSE FALSE\n",
       "[33,] FALSE    FALSE     TRUE FALSE FALSE FALSE FALSE\n",
       "[34,] FALSE    FALSE     TRUE FALSE FALSE FALSE FALSE\n",
       "[35,] FALSE    FALSE    FALSE FALSE FALSE FALSE FALSE\n",
       "[36,] FALSE    FALSE    FALSE FALSE FALSE FALSE FALSE\n",
       "[37,] FALSE    FALSE    FALSE FALSE FALSE FALSE FALSE\n",
       "[38,] FALSE    FALSE    FALSE FALSE FALSE FALSE FALSE\n",
       "[39,] FALSE    FALSE    FALSE FALSE FALSE FALSE FALSE\n",
       "[40,] FALSE    FALSE    FALSE FALSE FALSE FALSE FALSE\n",
       "[41,] FALSE    FALSE    FALSE FALSE FALSE FALSE FALSE\n",
       "[42,] FALSE    FALSE    FALSE FALSE FALSE FALSE FALSE\n",
       "[43,] FALSE    FALSE    FALSE FALSE FALSE FALSE FALSE\n",
       "[44,] FALSE    FALSE    FALSE FALSE FALSE FALSE FALSE\n",
       "[45,] FALSE    FALSE    FALSE FALSE FALSE FALSE FALSE\n",
       "[46,] FALSE    FALSE    FALSE FALSE FALSE FALSE FALSE\n",
       "[47,] FALSE    FALSE    FALSE FALSE FALSE FALSE FALSE\n",
       "[48,] FALSE    FALSE    FALSE FALSE FALSE FALSE FALSE\n",
       "[49,] FALSE    FALSE     TRUE FALSE FALSE FALSE FALSE\n",
       "[50,] FALSE    FALSE     TRUE FALSE FALSE FALSE FALSE\n",
       "[51,] FALSE    FALSE     TRUE FALSE FALSE FALSE FALSE\n",
       "[52,] FALSE    FALSE     TRUE FALSE FALSE FALSE FALSE\n",
       "[53,] FALSE    FALSE     TRUE FALSE FALSE FALSE FALSE\n",
       "[54,] FALSE    FALSE    FALSE FALSE FALSE FALSE FALSE\n",
       "[55,] FALSE    FALSE    FALSE FALSE FALSE FALSE FALSE\n",
       "[56,] FALSE    FALSE    FALSE FALSE FALSE FALSE FALSE\n",
       "[57,] FALSE    FALSE    FALSE FALSE FALSE FALSE FALSE\n",
       "[58,] FALSE    FALSE    FALSE FALSE FALSE FALSE FALSE\n",
       "[59,] FALSE    FALSE    FALSE FALSE FALSE FALSE FALSE\n",
       "[60,] FALSE    FALSE    FALSE FALSE FALSE FALSE FALSE\n",
       "[61,] FALSE    FALSE    FALSE FALSE FALSE FALSE FALSE"
      ]
     },
     "metadata": {},
     "output_type": "display_data"
    }
   ],
   "source": [
    "is.na(file)"
   ]
  },
  {
   "cell_type": "code",
   "execution_count": 8,
   "id": "feb3419c",
   "metadata": {},
   "outputs": [
    {
     "data": {
      "text/html": [
       "133"
      ],
      "text/latex": [
       "133"
      ],
      "text/markdown": [
       "133"
      ],
      "text/plain": [
       "[1] 133"
      ]
     },
     "metadata": {},
     "output_type": "display_data"
    }
   ],
   "source": [
    "nrow(file)"
   ]
  },
  {
   "cell_type": "markdown",
   "id": "9917680b",
   "metadata": {},
   "source": [
    "### 5.删除有缺失行的数据"
   ]
  },
  {
   "cell_type": "code",
   "execution_count": 9,
   "id": "55cac67c",
   "metadata": {},
   "outputs": [],
   "source": [
    "file1<-file[complete.cases(file),]"
   ]
  },
  {
   "cell_type": "markdown",
   "id": "359b1653",
   "metadata": {},
   "source": [
    "### 6.查看处理后的数据有多少行"
   ]
  },
  {
   "cell_type": "code",
   "execution_count": 10,
   "id": "8079d662",
   "metadata": {},
   "outputs": [
    {
     "data": {
      "text/html": [
       "98"
      ],
      "text/latex": [
       "98"
      ],
      "text/markdown": [
       "98"
      ],
      "text/plain": [
       "[1] 98"
      ]
     },
     "metadata": {},
     "output_type": "display_data"
    }
   ],
   "source": [
    "nrow(file1)"
   ]
  },
  {
   "cell_type": "markdown",
   "id": "5522bcc9",
   "metadata": {},
   "source": [
    "### 7.查看数据信息"
   ]
  },
  {
   "cell_type": "code",
   "execution_count": 11,
   "id": "37644c79",
   "metadata": {},
   "outputs": [
    {
     "data": {
      "text/plain": [
       "   工作职称           发布时间             待遇                薪资      \n",
       " Length:98          Length:98          Length:98          Min.   : 7000  \n",
       " Class :character   Class :character   Class :character   1st Qu.:11000  \n",
       " Mode  :character   Mode  :character   Mode  :character   Median :16500  \n",
       "                                                          Mean   :20342  \n",
       "                                                          3rd Qu.:29000  \n",
       "                                                          Max.   :50333  \n",
       "     学历               经验               地区          \n",
       " Length:98          Length:98          Length:98         \n",
       " Class :character   Class :character   Class :character  \n",
       " Mode  :character   Mode  :character   Mode  :character  \n",
       "                                                         \n",
       "                                                         \n",
       "                                                         "
      ]
     },
     "metadata": {},
     "output_type": "display_data"
    }
   ],
   "source": [
    "summary(file1)"
   ]
  },
  {
   "cell_type": "markdown",
   "id": "a8368000",
   "metadata": {},
   "source": [
    "### 8.绘制薪资的频数分布直方图"
   ]
  },
  {
   "cell_type": "code",
   "execution_count": 12,
   "id": "23f09284",
   "metadata": {},
   "outputs": [
    {
     "data": {
      "image/png": "[encoded data removed]",
      "text/plain": [
       "Plot with title \"Histogram of file1$薪资\""
      ]
     },
     "metadata": {
      "image/png": {
       "height": 420,
       "width": 420
      }
     },
     "output_type": "display_data"
    }
   ],
   "source": [
    "hist(x=file1$薪资, breaks=12,col=\"lightblue\",border=\"black\")\n",
    "lines(density(file1$薪资))"
   ]
  },
  {
   "cell_type": "markdown",
   "id": "5b5226d8",
   "metadata": {},
   "source": [
    "### 9.查看薪资的数据特征"
   ]
  },
  {
   "cell_type": "code",
   "execution_count": 13,
   "id": "d33802a8",
   "metadata": {},
   "outputs": [],
   "source": [
    "data1.nvars<-file1[,lapply(file1,class)==\"numeric\"]"
   ]
  },
  {
   "cell_type": "code",
   "execution_count": 14,
   "id": "48d72e43",
   "metadata": {},
   "outputs": [
    {
     "data": {
      "text/plain": [
       "   Min. 1st Qu.  Median    Mean 3rd Qu.    Max. \n",
       "   7000   11000   16500   20342   29000   50333 "
      ]
     },
     "metadata": {},
     "output_type": "display_data"
    }
   ],
   "source": [
    "summary(data1.nvars)"
   ]
  },
  {
   "cell_type": "code",
   "execution_count": 15,
   "id": "ae0dcf96",
   "metadata": {},
   "outputs": [],
   "source": [
    "data2<-file1"
   ]
  },
  {
   "cell_type": "markdown",
   "id": "3965d5b6",
   "metadata": {},
   "source": [
    "### 10.绘制大数据各个岗位中各学历占比"
   ]
  },
  {
   "cell_type": "code",
   "execution_count": 16,
   "id": "119b89af",
   "metadata": {},
   "outputs": [],
   "source": [
    "x<-data2$学历"
   ]
  },
  {
   "cell_type": "code",
   "execution_count": 17,
   "id": "caad932f",
   "metadata": {},
   "outputs": [],
   "source": [
    "frep<-table(x)"
   ]
  },
  {
   "cell_type": "code",
   "execution_count": 18,
   "id": "2a6f7ee5",
   "metadata": {},
   "outputs": [
    {
     "name": "stdout",
     "output_type": "stream",
     "text": [
      "本科 \n",
      "  49 \n"
     ]
    }
   ],
   "source": [
    "print(frep[1][1])"
   ]
  },
  {
   "cell_type": "code",
   "execution_count": 19,
   "id": "6341ea5a",
   "metadata": {},
   "outputs": [
    {
     "data": {
      "image/png": "[encoded data removed]",
      "text/plain": [
       "Plot with title \"大数据岗位中各学历占比\""
      ]
     },
     "metadata": {
      "image/png": {
       "height": 420,
       "width": 420
      }
     },
     "output_type": "display_data"
    }
   ],
   "source": [
    "pie(frep,cex=2, col = rainbow(length(frep)),main=\"大数据岗位中各学历占比\")"
   ]
  },
  {
   "cell_type": "code",
   "execution_count": 20,
   "id": "cee87587",
   "metadata": {},
   "outputs": [],
   "source": [
    "s<-as.numeric(data2$薪资)"
   ]
  },
  {
   "cell_type": "markdown",
   "id": "9d38f44e",
   "metadata": {},
   "source": [
    "### 11.绘制不同学历的工资的箱线图"
   ]
  },
  {
   "cell_type": "code",
   "execution_count": 21,
   "id": "aa595a43",
   "metadata": {},
   "outputs": [
    {
     "data": {
      "image/png": "[encoded data removed]",
      "text/plain": [
       "plot without title"
      ]
     },
     "metadata": {
      "image/png": {
       "height": 420,
       "width": 420
      }
     },
     "output_type": "display_data"
    }
   ],
   "source": [
    "boxplot(s~data2$学历 , horizontal = TRUE,col = c(\"#FF4500\", \"#FF0000\",\"#FF69B4\",\"#FF1493\"))"
   ]
  },
  {
   "cell_type": "markdown",
   "id": "eab0697f",
   "metadata": {},
   "source": [
    "### 12.绘制不同学历的薪资分布图"
   ]
  },
  {
   "cell_type": "code",
   "execution_count": 22,
   "id": "474d1c7e",
   "metadata": {},
   "outputs": [
    {
     "data": {
      "image/png": "[encoded data removed]",
      "text/plain": [
       "plot without title"
      ]
     },
     "metadata": {
      "image/png": {
       "height": 420,
       "width": 420
      }
     },
     "output_type": "display_data"
    }
   ],
   "source": [
    "ggplot(data=data2,aes(x=薪资,fill=学历))+\n",
    "geom_density()+\n",
    "facet_wrap(~学历,ncol=4)+\n",
    "theme(legend.position=\"none\")"
   ]
  },
  {
   "cell_type": "markdown",
   "id": "db57050f",
   "metadata": {},
   "source": [
    "### 13.绘制学历与经验的核密度图"
   ]
  },
  {
   "cell_type": "code",
   "execution_count": 23,
   "id": "1bb5d87c",
   "metadata": {},
   "outputs": [
    {
     "data": {
      "image/png": "[encoded data removed]",
      "text/plain": [
       "plot without title"
      ]
     },
     "metadata": {
      "image/png": {
       "height": 420,
       "width": 420
      }
     },
     "output_type": "display_data"
    }
   ],
   "source": [
    "densityplot(~as.numeric(经验)|学历,data=data2,layout=c(1,5),plot.points=FALSE,main=\"学历与经验核密度图\",xlab=\"x\",ylab=\"y\",\n",
    "           )"
   ]
  },
  {
   "cell_type": "markdown",
   "id": "c41decfe",
   "metadata": {},
   "source": [
    "### 14.绘制经验与薪资的散点图"
   ]
  },
  {
   "cell_type": "code",
   "execution_count": 24,
   "id": "e5ba1224",
   "metadata": {},
   "outputs": [
    {
     "data": {
      "image/png": "[encoded data removed]",
      "text/plain": [
       "plot without title"
      ]
     },
     "metadata": {
      "image/png": {
       "height": 420,
       "width": 420
      }
     },
     "output_type": "display_data"
    }
   ],
   "source": [
    "plot(data2$薪资~data2$经验,col='red')"
   ]
  },
  {
   "cell_type": "code",
   "execution_count": 25,
   "id": "f9774613",
   "metadata": {},
   "outputs": [
    {
     "data": {
      "text/html": [
       "<table class=\"dataframe\">\n",
       "<caption>A data.frame: 98 × 7</caption>\n",
       "<thead>\n",
       "\t<tr><th></th><th scope=col>工作职称</th><th scope=col>发布时间</th><th scope=col>待遇</th><th scope=col>薪资</th><th scope=col>学历</th><th scope=col>经验</th><th scope=col>地区</th></tr>\n",
       "\t<tr><th></th><th scope=col>&lt;chr&gt;</th><th scope=col>&lt;chr&gt;</th><th scope=col>&lt;chr&gt;</th><th scope=col>&lt;dbl&gt;</th><th scope=col>&lt;chr&gt;</th><th scope=col>&lt;chr&gt;</th><th scope=col>&lt;chr&gt;</th></tr>\n",
       "</thead>\n",
       "<tbody>\n",
       "\t<tr><th scope=row>1</th><td>大数据运维工程师                               </td><td>05-10发布</td><td>统计数据平台</td><td>41958</td><td>本科</td><td>0</td><td>北京·朝阳区</td></tr>\n",
       "\t<tr><th scope=row>2</th><td>大数据分析师（实习生）                         </td><td>05-26发布</td><td>互联网      </td><td> 8000</td><td>大专</td><td>1</td><td>兰州       </td></tr>\n",
       "\t<tr><th scope=row>3</th><td>甘肃-IT-大客户销售经理/总监（政府、企业、金融）</td><td>04-17发布</td><td>计算机      </td><td>22500</td><td>本科</td><td>1</td><td>兰州       </td></tr>\n",
       "\t<tr><th scope=row>4</th><td>WW-大客户销售经理（甘肃）                      </td><td>05-26发布</td><td>数据分析    </td><td>12500</td><td>大专</td><td>5</td><td>兰州·城关区</td></tr>\n",
       "\t<tr><th scope=row>5</th><td>大客户销售代表                                 </td><td>05-25发布</td><td>五险一金    </td><td>15000</td><td>大专</td><td>1</td><td>武汉·江岸区</td></tr>\n",
       "\t<tr><th scope=row>6</th><td>大客户销售（兰州）                             </td><td>05-18发布</td><td>年终奖金    </td><td>18000</td><td>大专</td><td>5</td><td>兰州       </td></tr>\n",
       "\t<tr><th scope=row>12</th><td>数据开发工程师（LT11lxf）(J10451)              </td><td>05-23发布</td><td>java        </td><td>50333</td><td>本科</td><td>3</td><td>兰州       </td></tr>\n",
       "\t<tr><th scope=row>13</th><td>数据开发工程师（兰州）                         </td><td>05-22发布</td><td>hadoop      </td><td>11000</td><td>本科</td><td>2</td><td>兰州       </td></tr>\n",
       "\t<tr><th scope=row>14</th><td>软件数据分析师                                 </td><td>05-26发布</td><td>存储过程    </td><td>12000</td><td>大专</td><td>1</td><td>兰州       </td></tr>\n",
       "\t<tr><th scope=row>15</th><td>数据统计专员                                   </td><td>05-26发布</td><td>数据仓库    </td><td> 7000</td><td>大专</td><td>0</td><td>兰州       </td></tr>\n",
       "\t<tr><th scope=row>16</th><td>初级数据实施工程师（JR11dy）(J10526)           </td><td>05-23发布</td><td>oracle      </td><td>29000</td><td>本科</td><td>1</td><td>兰州       </td></tr>\n",
       "\t<tr><th scope=row>17</th><td>海外财务经理G00955                             </td><td>05-12发布</td><td>etl         </td><td>30000</td><td>本科</td><td>5</td><td>广州·天河区</td></tr>\n",
       "\t<tr><th scope=row>18</th><td>商务                                           </td><td>05-26发布</td><td>统计        </td><td>20000</td><td>本科</td><td>2</td><td>兰州·城关区</td></tr>\n",
       "\t<tr><th scope=row>19</th><td>量体师                                         </td><td>03-27发布</td><td>管理        </td><td> 7500</td><td>高中</td><td>3</td><td>青岛·市南区</td></tr>\n",
       "\t<tr><th scope=row>20</th><td>大数据运维工程师                               </td><td>05-10发布</td><td>统计数据平台</td><td>41958</td><td>本科</td><td>0</td><td>北京·朝阳区</td></tr>\n",
       "\t<tr><th scope=row>21</th><td>大数据分析师（实习生）                         </td><td>05-26发布</td><td>互联网      </td><td> 8000</td><td>大专</td><td>1</td><td>兰州       </td></tr>\n",
       "\t<tr><th scope=row>22</th><td>甘肃-IT-大客户销售经理/总监（政府、企业、金融）</td><td>04-17发布</td><td>计算机      </td><td>22500</td><td>本科</td><td>1</td><td>兰州       </td></tr>\n",
       "\t<tr><th scope=row>23</th><td>WW-大客户销售经理（甘肃）                      </td><td>05-26发布</td><td>数据分析    </td><td>12500</td><td>大专</td><td>5</td><td>兰州·城关区</td></tr>\n",
       "\t<tr><th scope=row>24</th><td>大客户销售代表                                 </td><td>05-25发布</td><td>五险一金    </td><td>15000</td><td>大专</td><td>1</td><td>武汉·江岸区</td></tr>\n",
       "\t<tr><th scope=row>25</th><td>大客户销售（兰州）                             </td><td>05-18发布</td><td>年终奖金    </td><td>18000</td><td>大专</td><td>5</td><td>兰州       </td></tr>\n",
       "\t<tr><th scope=row>31</th><td>数据开发工程师（LT11lxf）(J10451)              </td><td>05-23发布</td><td>java        </td><td>50333</td><td>本科</td><td>3</td><td>兰州       </td></tr>\n",
       "\t<tr><th scope=row>32</th><td>数据开发工程师（兰州）                         </td><td>05-22发布</td><td>hadoop      </td><td>11000</td><td>本科</td><td>2</td><td>兰州       </td></tr>\n",
       "\t<tr><th scope=row>33</th><td>软件数据分析师                                 </td><td>05-26发布</td><td>存储过程    </td><td>12000</td><td>大专</td><td>1</td><td>兰州       </td></tr>\n",
       "\t<tr><th scope=row>34</th><td>数据统计专员                                   </td><td>05-26发布</td><td>数据仓库    </td><td> 7000</td><td>大专</td><td>0</td><td>兰州       </td></tr>\n",
       "\t<tr><th scope=row>35</th><td>初级数据实施工程师（JR11dy）(J10526)           </td><td>05-23发布</td><td>oracle      </td><td>29000</td><td>本科</td><td>1</td><td>兰州       </td></tr>\n",
       "\t<tr><th scope=row>36</th><td>海外财务经理G00955                             </td><td>05-12发布</td><td>etl         </td><td>30000</td><td>本科</td><td>5</td><td>广州·天河区</td></tr>\n",
       "\t<tr><th scope=row>37</th><td>商务                                           </td><td>05-26发布</td><td>统计        </td><td>20000</td><td>本科</td><td>2</td><td>兰州·城关区</td></tr>\n",
       "\t<tr><th scope=row>38</th><td>量体师                                         </td><td>03-27发布</td><td>管理        </td><td> 7500</td><td>高中</td><td>3</td><td>青岛·市南区</td></tr>\n",
       "\t<tr><th scope=row>39</th><td>大数据运维工程师                               </td><td>05-10发布</td><td>统计数据平台</td><td>41958</td><td>本科</td><td>0</td><td>北京·朝阳区</td></tr>\n",
       "\t<tr><th scope=row>40</th><td>大数据分析师（实习生）                         </td><td>05-26发布</td><td>互联网      </td><td> 8000</td><td>大专</td><td>1</td><td>兰州       </td></tr>\n",
       "\t<tr><th scope=row>...</th><td>...</td><td>...</td><td>...</td><td>...</td><td>...</td><td>...</td><td>...</td></tr>\n",
       "\t<tr><th scope=row>94</th><td>商务                                           </td><td>05-26发布</td><td>统计        </td><td>20000</td><td>本科</td><td>2</td><td>兰州·城关区</td></tr>\n",
       "\t<tr><th scope=row>95</th><td>量体师                                         </td><td>03-27发布</td><td>管理        </td><td> 7500</td><td>高中</td><td>3</td><td>青岛·市南区</td></tr>\n",
       "\t<tr><th scope=row>96</th><td>大数据运维工程师                               </td><td>05-10发布</td><td>统计数据平台</td><td>41958</td><td>本科</td><td>0</td><td>北京·朝阳区</td></tr>\n",
       "\t<tr><th scope=row>97</th><td>大数据分析师（实习生）                         </td><td>05-26发布</td><td>互联网      </td><td> 8000</td><td>大专</td><td>1</td><td>兰州       </td></tr>\n",
       "\t<tr><th scope=row>98</th><td>甘肃-IT-大客户销售经理/总监（政府、企业、金融）</td><td>04-17发布</td><td>计算机      </td><td>22500</td><td>本科</td><td>1</td><td>兰州       </td></tr>\n",
       "\t<tr><th scope=row>99</th><td>WW-大客户销售经理（甘肃）                      </td><td>05-26发布</td><td>数据分析    </td><td>12500</td><td>大专</td><td>5</td><td>兰州·城关区</td></tr>\n",
       "\t<tr><th scope=row>100</th><td>大客户销售代表                                 </td><td>05-25发布</td><td>五险一金    </td><td>15000</td><td>大专</td><td>1</td><td>武汉·江岸区</td></tr>\n",
       "\t<tr><th scope=row>101</th><td>大客户销售（兰州）                             </td><td>05-18发布</td><td>年终奖金    </td><td>18000</td><td>大专</td><td>5</td><td>兰州       </td></tr>\n",
       "\t<tr><th scope=row>107</th><td>数据开发工程师（LT11lxf）(J10451)              </td><td>05-23发布</td><td>java        </td><td>50333</td><td>本科</td><td>3</td><td>兰州       </td></tr>\n",
       "\t<tr><th scope=row>108</th><td>数据开发工程师（兰州）                         </td><td>05-22发布</td><td>hadoop      </td><td>11000</td><td>本科</td><td>2</td><td>兰州       </td></tr>\n",
       "\t<tr><th scope=row>109</th><td>软件数据分析师                                 </td><td>05-26发布</td><td>存储过程    </td><td>12000</td><td>大专</td><td>1</td><td>兰州       </td></tr>\n",
       "\t<tr><th scope=row>110</th><td>数据统计专员                                   </td><td>05-26发布</td><td>数据仓库    </td><td> 7000</td><td>大专</td><td>0</td><td>兰州       </td></tr>\n",
       "\t<tr><th scope=row>111</th><td>初级数据实施工程师（JR11dy）(J10526)           </td><td>05-23发布</td><td>oracle      </td><td>29000</td><td>本科</td><td>1</td><td>兰州       </td></tr>\n",
       "\t<tr><th scope=row>112</th><td>海外财务经理G00955                             </td><td>05-12发布</td><td>etl         </td><td>30000</td><td>本科</td><td>5</td><td>广州·天河区</td></tr>\n",
       "\t<tr><th scope=row>113</th><td>商务                                           </td><td>05-26发布</td><td>统计        </td><td>20000</td><td>本科</td><td>2</td><td>兰州·城关区</td></tr>\n",
       "\t<tr><th scope=row>114</th><td>量体师                                         </td><td>03-27发布</td><td>管理        </td><td> 7500</td><td>高中</td><td>3</td><td>青岛·市南区</td></tr>\n",
       "\t<tr><th scope=row>115</th><td>大数据运维工程师                               </td><td>05-10发布</td><td>统计数据平台</td><td>41958</td><td>本科</td><td>0</td><td>北京·朝阳区</td></tr>\n",
       "\t<tr><th scope=row>116</th><td>大数据分析师（实习生）                         </td><td>05-26发布</td><td>互联网      </td><td> 8000</td><td>大专</td><td>1</td><td>兰州       </td></tr>\n",
       "\t<tr><th scope=row>117</th><td>甘肃-IT-大客户销售经理/总监（政府、企业、金融）</td><td>04-17发布</td><td>计算机      </td><td>22500</td><td>本科</td><td>1</td><td>兰州       </td></tr>\n",
       "\t<tr><th scope=row>118</th><td>WW-大客户销售经理（甘肃）                      </td><td>05-26发布</td><td>数据分析    </td><td>12500</td><td>大专</td><td>5</td><td>兰州·城关区</td></tr>\n",
       "\t<tr><th scope=row>119</th><td>大客户销售代表                                 </td><td>05-25发布</td><td>五险一金    </td><td>15000</td><td>大专</td><td>1</td><td>武汉·江岸区</td></tr>\n",
       "\t<tr><th scope=row>120</th><td>大客户销售（兰州）                             </td><td>05-18发布</td><td>年终奖金    </td><td>18000</td><td>大专</td><td>5</td><td>兰州       </td></tr>\n",
       "\t<tr><th scope=row>126</th><td>数据开发工程师（LT11lxf）(J10451)              </td><td>05-23发布</td><td>java        </td><td>50333</td><td>本科</td><td>3</td><td>兰州       </td></tr>\n",
       "\t<tr><th scope=row>127</th><td>数据开发工程师（兰州）                         </td><td>05-22发布</td><td>hadoop      </td><td>11000</td><td>本科</td><td>2</td><td>兰州       </td></tr>\n",
       "\t<tr><th scope=row>128</th><td>软件数据分析师                                 </td><td>05-26发布</td><td>存储过程    </td><td>12000</td><td>大专</td><td>1</td><td>兰州       </td></tr>\n",
       "\t<tr><th scope=row>129</th><td>数据统计专员                                   </td><td>05-26发布</td><td>数据仓库    </td><td> 7000</td><td>大专</td><td>0</td><td>兰州       </td></tr>\n",
       "\t<tr><th scope=row>130</th><td>初级数据实施工程师（JR11dy）(J10526)           </td><td>05-23发布</td><td>oracle      </td><td>29000</td><td>本科</td><td>1</td><td>兰州       </td></tr>\n",
       "\t<tr><th scope=row>131</th><td>海外财务经理G00955                             </td><td>05-12发布</td><td>etl         </td><td>30000</td><td>本科</td><td>5</td><td>广州·天河区</td></tr>\n",
       "\t<tr><th scope=row>132</th><td>商务                                           </td><td>05-26发布</td><td>统计        </td><td>20000</td><td>本科</td><td>2</td><td>兰州·城关区</td></tr>\n",
       "\t<tr><th scope=row>133</th><td>量体师                                         </td><td>03-27发布</td><td>管理        </td><td> 7500</td><td>高中</td><td>3</td><td>青岛·市南区</td></tr>\n",
       "</tbody>\n",
       "</table>\n"
      ],
      "text/latex": [
       "A data.frame: 98 × 7\n",
       "\\begin{tabular}{r|lllllll}\n",
       "  & 工作职称 & 发布时间 & 待遇 & 薪资 & 学历 & 经验 & 地区\\\\\n",
       "  & <chr> & <chr> & <chr> & <dbl> & <chr> & <chr> & <chr>\\\\\n",
       "\\hline\n",
       "\t1 & 大数据运维工程师                                & 05-10发布 & 统计数据平台 & 41958 & 本科 & 0 & 北京·朝阳区\\\\\n",
       "\t2 & 大数据分析师（实习生）                          & 05-26发布 & 互联网       &  8000 & 大专 & 1 & 兰州       \\\\\n",
       "\t3 & 甘肃-IT-大客户销售经理/总监（政府、企业、金融） & 04-17发布 & 计算机       & 22500 & 本科 & 1 & 兰州       \\\\\n",
       "\t4 & WW-大客户销售经理（甘肃）                       & 05-26发布 & 数据分析     & 12500 & 大专 & 5 & 兰州·城关区\\\\\n",
       "\t5 & 大客户销售代表                                  & 05-25发布 & 五险一金     & 15000 & 大专 & 1 & 武汉·江岸区\\\\\n",
       "\t6 & 大客户销售（兰州）                              & 05-18发布 & 年终奖金     & 18000 & 大专 & 5 & 兰州       \\\\\n",
       "\t12 & 数据开发工程师（LT11lxf）(J10451)               & 05-23发布 & java         & 50333 & 本科 & 3 & 兰州       \\\\\n",
       "\t13 & 数据开发工程师（兰州）                          & 05-22发布 & hadoop       & 11000 & 本科 & 2 & 兰州       \\\\\n",
       "\t14 & 软件数据分析师                                  & 05-26发布 & 存储过程     & 12000 & 大专 & 1 & 兰州       \\\\\n",
       "\t15 & 数据统计专员                                    & 05-26发布 & 数据仓库     &  7000 & 大专 & 0 & 兰州       \\\\\n",
       "\t16 & 初级数据实施工程师（JR11dy）(J10526)            & 05-23发布 & oracle       & 29000 & 本科 & 1 & 兰州       \\\\\n",
       "\t17 & 海外财务经理G00955                              & 05-12发布 & etl          & 30000 & 本科 & 5 & 广州·天河区\\\\\n",
       "\t18 & 商务                                            & 05-26发布 & 统计         & 20000 & 本科 & 2 & 兰州·城关区\\\\\n",
       "\t19 & 量体师                                          & 03-27发布 & 管理         &  7500 & 高中 & 3 & 青岛·市南区\\\\\n",
       "\t20 & 大数据运维工程师                                & 05-10发布 & 统计数据平台 & 41958 & 本科 & 0 & 北京·朝阳区\\\\\n",
       "\t21 & 大数据分析师（实习生）                          & 05-26发布 & 互联网       &  8000 & 大专 & 1 & 兰州       \\\\\n",
       "\t22 & 甘肃-IT-大客户销售经理/总监（政府、企业、金融） & 04-17发布 & 计算机       & 22500 & 本科 & 1 & 兰州       \\\\\n",
       "\t23 & WW-大客户销售经理（甘肃）                       & 05-26发布 & 数据分析     & 12500 & 大专 & 5 & 兰州·城关区\\\\\n",
       "\t24 & 大客户销售代表                                  & 05-25发布 & 五险一金     & 15000 & 大专 & 1 & 武汉·江岸区\\\\\n",
       "\t25 & 大客户销售（兰州）                              & 05-18发布 & 年终奖金     & 18000 & 大专 & 5 & 兰州       \\\\\n",
       "\t31 & 数据开发工程师（LT11lxf）(J10451)               & 05-23发布 & java         & 50333 & 本科 & 3 & 兰州       \\\\\n",
       "\t32 & 数据开发工程师（兰州）                          & 05-22发布 & hadoop       & 11000 & 本科 & 2 & 兰州       \\\\\n",
       "\t33 & 软件数据分析师                                  & 05-26发布 & 存储过程     & 12000 & 大专 & 1 & 兰州       \\\\\n",
       "\t34 & 数据统计专员                                    & 05-26发布 & 数据仓库     &  7000 & 大专 & 0 & 兰州       \\\\\n",
       "\t35 & 初级数据实施工程师（JR11dy）(J10526)            & 05-23发布 & oracle       & 29000 & 本科 & 1 & 兰州       \\\\\n",
       "\t36 & 海外财务经理G00955                              & 05-12发布 & etl          & 30000 & 本科 & 5 & 广州·天河区\\\\\n",
       "\t37 & 商务                                            & 05-26发布 & 统计         & 20000 & 本科 & 2 & 兰州·城关区\\\\\n",
       "\t38 & 量体师                                          & 03-27发布 & 管理         &  7500 & 高中 & 3 & 青岛·市南区\\\\\n",
       "\t39 & 大数据运维工程师                                & 05-10发布 & 统计数据平台 & 41958 & 本科 & 0 & 北京·朝阳区\\\\\n",
       "\t40 & 大数据分析师（实习生）                          & 05-26发布 & 互联网       &  8000 & 大专 & 1 & 兰州       \\\\\n",
       "\t... & ... & ... & ... & ... & ... & ... & ...\\\\\n",
       "\t94 & 商务                                            & 05-26发布 & 统计         & 20000 & 本科 & 2 & 兰州·城关区\\\\\n",
       "\t95 & 量体师                                          & 03-27发布 & 管理         &  7500 & 高中 & 3 & 青岛·市南区\\\\\n",
       "\t96 & 大数据运维工程师                                & 05-10发布 & 统计数据平台 & 41958 & 本科 & 0 & 北京·朝阳区\\\\\n",
       "\t97 & 大数据分析师（实习生）                          & 05-26发布 & 互联网       &  8000 & 大专 & 1 & 兰州       \\\\\n",
       "\t98 & 甘肃-IT-大客户销售经理/总监（政府、企业、金融） & 04-17发布 & 计算机       & 22500 & 本科 & 1 & 兰州       \\\\\n",
       "\t99 & WW-大客户销售经理（甘肃）                       & 05-26发布 & 数据分析     & 12500 & 大专 & 5 & 兰州·城关区\\\\\n",
       "\t100 & 大客户销售代表                                  & 05-25发布 & 五险一金     & 15000 & 大专 & 1 & 武汉·江岸区\\\\\n",
       "\t101 & 大客户销售（兰州）                              & 05-18发布 & 年终奖金     & 18000 & 大专 & 5 & 兰州       \\\\\n",
       "\t107 & 数据开发工程师（LT11lxf）(J10451)               & 05-23发布 & java         & 50333 & 本科 & 3 & 兰州       \\\\\n",
       "\t108 & 数据开发工程师（兰州）                          & 05-22发布 & hadoop       & 11000 & 本科 & 2 & 兰州       \\\\\n",
       "\t109 & 软件数据分析师                                  & 05-26发布 & 存储过程     & 12000 & 大专 & 1 & 兰州       \\\\\n",
       "\t110 & 数据统计专员                                    & 05-26发布 & 数据仓库     &  7000 & 大专 & 0 & 兰州       \\\\\n",
       "\t111 & 初级数据实施工程师（JR11dy）(J10526)            & 05-23发布 & oracle       & 29000 & 本科 & 1 & 兰州       \\\\\n",
       "\t112 & 海外财务经理G00955                              & 05-12发布 & etl          & 30000 & 本科 & 5 & 广州·天河区\\\\\n",
       "\t113 & 商务                                            & 05-26发布 & 统计         & 20000 & 本科 & 2 & 兰州·城关区\\\\\n",
       "\t114 & 量体师                                          & 03-27发布 & 管理         &  7500 & 高中 & 3 & 青岛·市南区\\\\\n",
       "\t115 & 大数据运维工程师                                & 05-10发布 & 统计数据平台 & 41958 & 本科 & 0 & 北京·朝阳区\\\\\n",
       "\t116 & 大数据分析师（实习生）                          & 05-26发布 & 互联网       &  8000 & 大专 & 1 & 兰州       \\\\\n",
       "\t117 & 甘肃-IT-大客户销售经理/总监（政府、企业、金融） & 04-17发布 & 计算机       & 22500 & 本科 & 1 & 兰州       \\\\\n",
       "\t118 & WW-大客户销售经理（甘肃）                       & 05-26发布 & 数据分析     & 12500 & 大专 & 5 & 兰州·城关区\\\\\n",
       "\t119 & 大客户销售代表                                  & 05-25发布 & 五险一金     & 15000 & 大专 & 1 & 武汉·江岸区\\\\\n",
       "\t120 & 大客户销售（兰州）                              & 05-18发布 & 年终奖金     & 18000 & 大专 & 5 & 兰州       \\\\\n",
       "\t126 & 数据开发工程师（LT11lxf）(J10451)               & 05-23发布 & java         & 50333 & 本科 & 3 & 兰州       \\\\\n",
       "\t127 & 数据开发工程师（兰州）                          & 05-22发布 & hadoop       & 11000 & 本科 & 2 & 兰州       \\\\\n",
       "\t128 & 软件数据分析师                                  & 05-26发布 & 存储过程     & 12000 & 大专 & 1 & 兰州       \\\\\n",
       "\t129 & 数据统计专员                                    & 05-26发布 & 数据仓库     &  7000 & 大专 & 0 & 兰州       \\\\\n",
       "\t130 & 初级数据实施工程师（JR11dy）(J10526)            & 05-23发布 & oracle       & 29000 & 本科 & 1 & 兰州       \\\\\n",
       "\t131 & 海外财务经理G00955                              & 05-12发布 & etl          & 30000 & 本科 & 5 & 广州·天河区\\\\\n",
       "\t132 & 商务                                            & 05-26发布 & 统计         & 20000 & 本科 & 2 & 兰州·城关区\\\\\n",
       "\t133 & 量体师                                          & 03-27发布 & 管理         &  7500 & 高中 & 3 & 青岛·市南区\\\\\n",
       "\\end{tabular}\n"
      ],
      "text/markdown": [
       "\n",
       "A data.frame: 98 × 7\n",
       "\n",
       "| <!--/--> | 工作职称 &lt;chr&gt; | 发布时间 &lt;chr&gt; | 待遇 &lt;chr&gt; | 薪资 &lt;dbl&gt; | 学历 &lt;chr&gt; | 经验 &lt;chr&gt; | 地区 &lt;chr&gt; |\n",
       "|---|---|---|---|---|---|---|---|\n",
       "| 1 | 大数据运维工程师                                | 05-10发布 | 统计数据平台 | 41958 | 本科 | 0 | 北京·朝阳区 |\n",
       "| 2 | 大数据分析师（实习生）                          | 05-26发布 | 互联网       |  8000 | 大专 | 1 | 兰州        |\n",
       "| 3 | 甘肃-IT-大客户销售经理/总监（政府、企业、金融） | 04-17发布 | 计算机       | 22500 | 本科 | 1 | 兰州        |\n",
       "| 4 | WW-大客户销售经理（甘肃）                       | 05-26发布 | 数据分析     | 12500 | 大专 | 5 | 兰州·城关区 |\n",
       "| 5 | 大客户销售代表                                  | 05-25发布 | 五险一金     | 15000 | 大专 | 1 | 武汉·江岸区 |\n",
       "| 6 | 大客户销售（兰州）                              | 05-18发布 | 年终奖金     | 18000 | 大专 | 5 | 兰州        |\n",
       "| 12 | 数据开发工程师（LT11lxf）(J10451)               | 05-23发布 | java         | 50333 | 本科 | 3 | 兰州        |\n",
       "| 13 | 数据开发工程师（兰州）                          | 05-22发布 | hadoop       | 11000 | 本科 | 2 | 兰州        |\n",
       "| 14 | 软件数据分析师                                  | 05-26发布 | 存储过程     | 12000 | 大专 | 1 | 兰州        |\n",
       "| 15 | 数据统计专员                                    | 05-26发布 | 数据仓库     |  7000 | 大专 | 0 | 兰州        |\n",
       "| 16 | 初级数据实施工程师（JR11dy）(J10526)            | 05-23发布 | oracle       | 29000 | 本科 | 1 | 兰州        |\n",
       "| 17 | 海外财务经理G00955                              | 05-12发布 | etl          | 30000 | 本科 | 5 | 广州·天河区 |\n",
       "| 18 | 商务                                            | 05-26发布 | 统计         | 20000 | 本科 | 2 | 兰州·城关区 |\n",
       "| 19 | 量体师                                          | 03-27发布 | 管理         |  7500 | 高中 | 3 | 青岛·市南区 |\n",
       "| 20 | 大数据运维工程师                                | 05-10发布 | 统计数据平台 | 41958 | 本科 | 0 | 北京·朝阳区 |\n",
       "| 21 | 大数据分析师（实习生）                          | 05-26发布 | 互联网       |  8000 | 大专 | 1 | 兰州        |\n",
       "| 22 | 甘肃-IT-大客户销售经理/总监（政府、企业、金融） | 04-17发布 | 计算机       | 22500 | 本科 | 1 | 兰州        |\n",
       "| 23 | WW-大客户销售经理（甘肃）                       | 05-26发布 | 数据分析     | 12500 | 大专 | 5 | 兰州·城关区 |\n",
       "| 24 | 大客户销售代表                                  | 05-25发布 | 五险一金     | 15000 | 大专 | 1 | 武汉·江岸区 |\n",
       "| 25 | 大客户销售（兰州）                              | 05-18发布 | 年终奖金     | 18000 | 大专 | 5 | 兰州        |\n",
       "| 31 | 数据开发工程师（LT11lxf）(J10451)               | 05-23发布 | java         | 50333 | 本科 | 3 | 兰州        |\n",
       "| 32 | 数据开发工程师（兰州）                          | 05-22发布 | hadoop       | 11000 | 本科 | 2 | 兰州        |\n",
       "| 33 | 软件数据分析师                                  | 05-26发布 | 存储过程     | 12000 | 大专 | 1 | 兰州        |\n",
       "| 34 | 数据统计专员                                    | 05-26发布 | 数据仓库     |  7000 | 大专 | 0 | 兰州        |\n",
       "| 35 | 初级数据实施工程师（JR11dy）(J10526)            | 05-23发布 | oracle       | 29000 | 本科 | 1 | 兰州        |\n",
       "| 36 | 海外财务经理G00955                              | 05-12发布 | etl          | 30000 | 本科 | 5 | 广州·天河区 |\n",
       "| 37 | 商务                                            | 05-26发布 | 统计         | 20000 | 本科 | 2 | 兰州·城关区 |\n",
       "| 38 | 量体师                                          | 03-27发布 | 管理         |  7500 | 高中 | 3 | 青岛·市南区 |\n",
       "| 39 | 大数据运维工程师                                | 05-10发布 | 统计数据平台 | 41958 | 本科 | 0 | 北京·朝阳区 |\n",
       "| 40 | 大数据分析师（实习生）                          | 05-26发布 | 互联网       |  8000 | 大专 | 1 | 兰州        |\n",
       "| ... | ... | ... | ... | ... | ... | ... | ... |\n",
       "| 94 | 商务                                            | 05-26发布 | 统计         | 20000 | 本科 | 2 | 兰州·城关区 |\n",
       "| 95 | 量体师                                          | 03-27发布 | 管理         |  7500 | 高中 | 3 | 青岛·市南区 |\n",
       "| 96 | 大数据运维工程师                                | 05-10发布 | 统计数据平台 | 41958 | 本科 | 0 | 北京·朝阳区 |\n",
       "| 97 | 大数据分析师（实习生）                          | 05-26发布 | 互联网       |  8000 | 大专 | 1 | 兰州        |\n",
       "| 98 | 甘肃-IT-大客户销售经理/总监（政府、企业、金融） | 04-17发布 | 计算机       | 22500 | 本科 | 1 | 兰州        |\n",
       "| 99 | WW-大客户销售经理（甘肃）                       | 05-26发布 | 数据分析     | 12500 | 大专 | 5 | 兰州·城关区 |\n",
       "| 100 | 大客户销售代表                                  | 05-25发布 | 五险一金     | 15000 | 大专 | 1 | 武汉·江岸区 |\n",
       "| 101 | 大客户销售（兰州）                              | 05-18发布 | 年终奖金     | 18000 | 大专 | 5 | 兰州        |\n",
       "| 107 | 数据开发工程师（LT11lxf）(J10451)               | 05-23发布 | java         | 50333 | 本科 | 3 | 兰州        |\n",
       "| 108 | 数据开发工程师（兰州）                          | 05-22发布 | hadoop       | 11000 | 本科 | 2 | 兰州        |\n",
       "| 109 | 软件数据分析师                                  | 05-26发布 | 存储过程     | 12000 | 大专 | 1 | 兰州        |\n",
       "| 110 | 数据统计专员                                    | 05-26发布 | 数据仓库     |  7000 | 大专 | 0 | 兰州        |\n",
       "| 111 | 初级数据实施工程师（JR11dy）(J10526)            | 05-23发布 | oracle       | 29000 | 本科 | 1 | 兰州        |\n",
       "| 112 | 海外财务经理G00955                              | 05-12发布 | etl          | 30000 | 本科 | 5 | 广州·天河区 |\n",
       "| 113 | 商务                                            | 05-26发布 | 统计         | 20000 | 本科 | 2 | 兰州·城关区 |\n",
       "| 114 | 量体师                                          | 03-27发布 | 管理         |  7500 | 高中 | 3 | 青岛·市南区 |\n",
       "| 115 | 大数据运维工程师                                | 05-10发布 | 统计数据平台 | 41958 | 本科 | 0 | 北京·朝阳区 |\n",
       "| 116 | 大数据分析师（实习生）                          | 05-26发布 | 互联网       |  8000 | 大专 | 1 | 兰州        |\n",
       "| 117 | 甘肃-IT-大客户销售经理/总监（政府、企业、金融） | 04-17发布 | 计算机       | 22500 | 本科 | 1 | 兰州        |\n",
       "| 118 | WW-大客户销售经理（甘肃）                       | 05-26发布 | 数据分析     | 12500 | 大专 | 5 | 兰州·城关区 |\n",
       "| 119 | 大客户销售代表                                  | 05-25发布 | 五险一金     | 15000 | 大专 | 1 | 武汉·江岸区 |\n",
       "| 120 | 大客户销售（兰州）                              | 05-18发布 | 年终奖金     | 18000 | 大专 | 5 | 兰州        |\n",
       "| 126 | 数据开发工程师（LT11lxf）(J10451)               | 05-23发布 | java         | 50333 | 本科 | 3 | 兰州        |\n",
       "| 127 | 数据开发工程师（兰州）                          | 05-22发布 | hadoop       | 11000 | 本科 | 2 | 兰州        |\n",
       "| 128 | 软件数据分析师                                  | 05-26发布 | 存储过程     | 12000 | 大专 | 1 | 兰州        |\n",
       "| 129 | 数据统计专员                                    | 05-26发布 | 数据仓库     |  7000 | 大专 | 0 | 兰州        |\n",
       "| 130 | 初级数据实施工程师（JR11dy）(J10526)            | 05-23发布 | oracle       | 29000 | 本科 | 1 | 兰州        |\n",
       "| 131 | 海外财务经理G00955                              | 05-12发布 | etl          | 30000 | 本科 | 5 | 广州·天河区 |\n",
       "| 132 | 商务                                            | 05-26发布 | 统计         | 20000 | 本科 | 2 | 兰州·城关区 |\n",
       "| 133 | 量体师                                          | 03-27发布 | 管理         |  7500 | 高中 | 3 | 青岛·市南区 |\n",
       "\n"
      ],
      "text/plain": [
       "    工作职称                                        发布时间  待遇        \n",
       "1   大数据运维工程师                                05-10发布 统计数据平台\n",
       "2   大数据分析师（实习生）                          05-26发布 互联网      \n",
       "3   甘肃-IT-大客户销售经理/总监（政府、企业、金融） 04-17发布 计算机      \n",
       "4   WW-大客户销售经理（甘肃）                       05-26发布 数据分析    \n",
       "5   大客户销售代表                                  05-25发布 五险一金    \n",
       "6   大客户销售（兰州）                              05-18发布 年终奖金    \n",
       "12  数据开发工程师（LT11lxf）(J10451)               05-23发布 java        \n",
       "13  数据开发工程师（兰州）                          05-22发布 hadoop      \n",
       "14  软件数据分析师                                  05-26发布 存储过程    \n",
       "15  数据统计专员                                    05-26发布 数据仓库    \n",
       "16  初级数据实施工程师（JR11dy）(J10526)            05-23发布 oracle      \n",
       "17  海外财务经理G00955                              05-12发布 etl         \n",
       "18  商务                                            05-26发布 统计        \n",
       "19  量体师                                          03-27发布 管理        \n",
       "20  大数据运维工程师                                05-10发布 统计数据平台\n",
       "21  大数据分析师（实习生）                          05-26发布 互联网      \n",
       "22  甘肃-IT-大客户销售经理/总监（政府、企业、金融） 04-17发布 计算机      \n",
       "23  WW-大客户销售经理（甘肃）                       05-26发布 数据分析    \n",
       "24  大客户销售代表                                  05-25发布 五险一金    \n",
       "25  大客户销售（兰州）                              05-18发布 年终奖金    \n",
       "31  数据开发工程师（LT11lxf）(J10451)               05-23发布 java        \n",
       "32  数据开发工程师（兰州）                          05-22发布 hadoop      \n",
       "33  软件数据分析师                                  05-26发布 存储过程    \n",
       "34  数据统计专员                                    05-26发布 数据仓库    \n",
       "35  初级数据实施工程师（JR11dy）(J10526)            05-23发布 oracle      \n",
       "36  海外财务经理G00955                              05-12发布 etl         \n",
       "37  商务                                            05-26发布 统计        \n",
       "38  量体师                                          03-27发布 管理        \n",
       "39  大数据运维工程师                                05-10发布 统计数据平台\n",
       "40  大数据分析师（实习生）                          05-26发布 互联网      \n",
       "... ...                                             ...       ...         \n",
       "94  商务                                            05-26发布 统计        \n",
       "95  量体师                                          03-27发布 管理        \n",
       "96  大数据运维工程师                                05-10发布 统计数据平台\n",
       "97  大数据分析师（实习生）                          05-26发布 互联网      \n",
       "98  甘肃-IT-大客户销售经理/总监（政府、企业、金融） 04-17发布 计算机      \n",
       "99  WW-大客户销售经理（甘肃）                       05-26发布 数据分析    \n",
       "100 大客户销售代表                                  05-25发布 五险一金    \n",
       "101 大客户销售（兰州）                              05-18发布 年终奖金    \n",
       "107 数据开发工程师（LT11lxf）(J10451)               05-23发布 java        \n",
       "108 数据开发工程师（兰州）                          05-22发布 hadoop      \n",
       "109 软件数据分析师                                  05-26发布 存储过程    \n",
       "110 数据统计专员                                    05-26发布 数据仓库    \n",
       "111 初级数据实施工程师（JR11dy）(J10526)            05-23发布 oracle      \n",
       "112 海外财务经理G00955                              05-12发布 etl         \n",
       "113 商务                                            05-26发布 统计        \n",
       "114 量体师                                          03-27发布 管理        \n",
       "115 大数据运维工程师                                05-10发布 统计数据平台\n",
       "116 大数据分析师（实习生）                          05-26发布 互联网      \n",
       "117 甘肃-IT-大客户销售经理/总监（政府、企业、金融） 04-17发布 计算机      \n",
       "118 WW-大客户销售经理（甘肃）                       05-26发布 数据分析    \n",
       "119 大客户销售代表                                  05-25发布 五险一金    \n",
       "120 大客户销售（兰州）                              05-18发布 年终奖金    \n",
       "126 数据开发工程师（LT11lxf）(J10451)               05-23发布 java        \n",
       "127 数据开发工程师（兰州）                          05-22发布 hadoop      \n",
       "128 软件数据分析师                                  05-26发布 存储过程    \n",
       "129 数据统计专员                                    05-26发布 数据仓库    \n",
       "130 初级数据实施工程师（JR11dy）(J10526)            05-23发布 oracle      \n",
       "131 海外财务经理G00955                              05-12发布 etl         \n",
       "132 商务                                            05-26发布 统计        \n",
       "133 量体师                                          03-27发布 管理        \n",
       "    薪资  学历 经验 地区       \n",
       "1   41958 本科 0    北京·朝阳区\n",
       "2    8000 大专 1    兰州       \n",
       "3   22500 本科 1    兰州       \n",
       "4   12500 大专 5    兰州·城关区\n",
       "5   15000 大专 1    武汉·江岸区\n",
       "6   18000 大专 5    兰州       \n",
       "12  50333 本科 3    兰州       \n",
       "13  11000 本科 2    兰州       \n",
       "14  12000 大专 1    兰州       \n",
       "15   7000 大专 0    兰州       \n",
       "16  29000 本科 1    兰州       \n",
       "17  30000 本科 5    广州·天河区\n",
       "18  20000 本科 2    兰州·城关区\n",
       "19   7500 高中 3    青岛·市南区\n",
       "20  41958 本科 0    北京·朝阳区\n",
       "21   8000 大专 1    兰州       \n",
       "22  22500 本科 1    兰州       \n",
       "23  12500 大专 5    兰州·城关区\n",
       "24  15000 大专 1    武汉·江岸区\n",
       "25  18000 大专 5    兰州       \n",
       "31  50333 本科 3    兰州       \n",
       "32  11000 本科 2    兰州       \n",
       "33  12000 大专 1    兰州       \n",
       "34   7000 大专 0    兰州       \n",
       "35  29000 本科 1    兰州       \n",
       "36  30000 本科 5    广州·天河区\n",
       "37  20000 本科 2    兰州·城关区\n",
       "38   7500 高中 3    青岛·市南区\n",
       "39  41958 本科 0    北京·朝阳区\n",
       "40   8000 大专 1    兰州       \n",
       "... ...   ...  ...  ...        \n",
       "94  20000 本科 2    兰州·城关区\n",
       "95   7500 高中 3    青岛·市南区\n",
       "96  41958 本科 0    北京·朝阳区\n",
       "97   8000 大专 1    兰州       \n",
       "98  22500 本科 1    兰州       \n",
       "99  12500 大专 5    兰州·城关区\n",
       "100 15000 大专 1    武汉·江岸区\n",
       "101 18000 大专 5    兰州       \n",
       "107 50333 本科 3    兰州       \n",
       "108 11000 本科 2    兰州       \n",
       "109 12000 大专 1    兰州       \n",
       "110  7000 大专 0    兰州       \n",
       "111 29000 本科 1    兰州       \n",
       "112 30000 本科 5    广州·天河区\n",
       "113 20000 本科 2    兰州·城关区\n",
       "114  7500 高中 3    青岛·市南区\n",
       "115 41958 本科 0    北京·朝阳区\n",
       "116  8000 大专 1    兰州       \n",
       "117 22500 本科 1    兰州       \n",
       "118 12500 大专 5    兰州·城关区\n",
       "119 15000 大专 1    武汉·江岸区\n",
       "120 18000 大专 5    兰州       \n",
       "126 50333 本科 3    兰州       \n",
       "127 11000 本科 2    兰州       \n",
       "128 12000 大专 1    兰州       \n",
       "129  7000 大专 0    兰州       \n",
       "130 29000 本科 1    兰州       \n",
       "131 30000 本科 5    广州·天河区\n",
       "132 20000 本科 2    兰州·城关区\n",
       "133  7500 高中 3    青岛·市南区"
      ]
     },
     "metadata": {},
     "output_type": "display_data"
    }
   ],
   "source": [
    "data2"
   ]
  },
  {
   "cell_type": "code",
   "execution_count": 26,
   "id": "d07506c3",
   "metadata": {},
   "outputs": [
    {
     "data": {
      "text/plain": [
       "   工作职称           发布时间             待遇                薪资      \n",
       " Length:98          Length:98          Length:98          Min.   : 7000  \n",
       " Class :character   Class :character   Class :character   1st Qu.:11000  \n",
       " Mode  :character   Mode  :character   Mode  :character   Median :16500  \n",
       "                                                          Mean   :20342  \n",
       "                                                          3rd Qu.:29000  \n",
       "                                                          Max.   :50333  \n",
       "     学历               经验               地区          \n",
       " Length:98          Length:98          Length:98         \n",
       " Class :character   Class :character   Class :character  \n",
       " Mode  :character   Mode  :character   Mode  :character  \n",
       "                                                         \n",
       "                                                         \n",
       "                                                         "
      ]
     },
     "metadata": {},
     "output_type": "display_data"
    }
   ],
   "source": [
    "summary(data2)"
   ]
  },
  {
   "cell_type": "markdown",
   "id": "34534106",
   "metadata": {},
   "source": [
    "### 15.kmeans数据特征查看"
   ]
  },
  {
   "cell_type": "code",
   "execution_count": 27,
   "id": "56dbc7e1",
   "metadata": {},
   "outputs": [],
   "source": [
    "ll<-data2"
   ]
  },
  {
   "cell_type": "code",
   "execution_count": 28,
   "id": "09ffc320",
   "metadata": {},
   "outputs": [],
   "source": [
    "data_xinzi<-data2[,6:6]"
   ]
  },
  {
   "cell_type": "code",
   "execution_count": 29,
   "id": "85072e12",
   "metadata": {},
   "outputs": [
    {
     "name": "stdout",
     "output_type": "stream",
     "text": [
      " [1] \"0\" \"1\" \"1\" \"5\" \"1\" \"5\" \"3\" \"2\" \"1\" \"0\" \"1\" \"5\" \"2\" \"3\" \"0\" \"1\" \"1\" \"5\" \"1\"\n",
      "[20] \"5\" \"3\" \"2\" \"1\" \"0\" \"1\" \"5\" \"2\" \"3\" \"0\" \"1\" \"1\" \"5\" \"1\" \"5\" \"3\" \"2\" \"1\" \"0\"\n",
      "[39] \"1\" \"5\" \"2\" \"3\" \"0\" \"1\" \"1\" \"5\" \"1\" \"5\" \"3\" \"2\" \"1\" \"0\" \"1\" \"5\" \"2\" \"3\" \"0\"\n",
      "[58] \"1\" \"1\" \"5\" \"1\" \"5\" \"3\" \"2\" \"1\" \"0\" \"1\" \"5\" \"2\" \"3\" \"0\" \"1\" \"1\" \"5\" \"1\" \"5\"\n",
      "[77] \"3\" \"2\" \"1\" \"0\" \"1\" \"5\" \"2\" \"3\" \"0\" \"1\" \"1\" \"5\" \"1\" \"5\" \"3\" \"2\" \"1\" \"0\" \"1\"\n",
      "[96] \"5\" \"2\" \"3\"\n"
     ]
    }
   ],
   "source": [
    "print(data_xinzi)"
   ]
  },
  {
   "cell_type": "code",
   "execution_count": 30,
   "id": "8c731bd1",
   "metadata": {},
   "outputs": [],
   "source": [
    "km = kmeans(data_xinzi, center=3)"
   ]
  },
  {
   "cell_type": "code",
   "execution_count": 31,
   "id": "2ee94add",
   "metadata": {},
   "outputs": [
    {
     "data": {
      "text/html": [
       "<style>\n",
       ".list-inline {list-style: none; margin:0; padding: 0}\n",
       ".list-inline>li {display: inline-block}\n",
       ".list-inline>li:not(:last-child)::after {content: \"\\00b7\"; padding: 0 .5ex}\n",
       "</style>\n",
       "<ol class=list-inline><li>0.5</li><li>0.214285714285714</li><li>0.285714285714286</li></ol>\n"
      ],
      "text/latex": [
       "\\begin{enumerate*}\n",
       "\\item 0.5\n",
       "\\item 0.214285714285714\n",
       "\\item 0.285714285714286\n",
       "\\end{enumerate*}\n"
      ],
      "text/markdown": [
       "1. 0.5\n",
       "2. 0.214285714285714\n",
       "3. 0.285714285714286\n",
       "\n",
       "\n"
      ],
      "text/plain": [
       "[1] 0.5000000 0.2142857 0.2857143"
      ]
     },
     "metadata": {},
     "output_type": "display_data"
    }
   ],
   "source": [
    "km$size/sum(km$size)"
   ]
  },
  {
   "cell_type": "markdown",
   "id": "bcd29202",
   "metadata": {},
   "source": [
    "### 16.CART决策树"
   ]
  },
  {
   "cell_type": "code",
   "execution_count": 32,
   "id": "b4880b9c",
   "metadata": {},
   "outputs": [],
   "source": [
    "library(tree)"
   ]
  },
  {
   "cell_type": "code",
   "execution_count": 33,
   "id": "f025816d",
   "metadata": {},
   "outputs": [],
   "source": [
    "ll[,'学历']=as.factor(ll[,\"学历\"])\n",
    "set.seed(1234)\n",
    "ind<-sample(2,nrow(ll),replace=TRUE,prob=c(0.7,0.3))\n",
    "traindata<-ll[ind==1,]\n",
    "testdata<-ll[ind==2,]"
   ]
  },
  {
   "cell_type": "code",
   "execution_count": 34,
   "id": "82ae7031",
   "metadata": {},
   "outputs": [
    {
     "name": "stderr",
     "output_type": "stream",
     "text": [
      "Warning message in tree(学历 ~ ., data = traindata):\n",
      "\"强制改变过程中产生了NA\"\n"
     ]
    },
    {
     "data": {
      "image/png": "[encoded data removed]",
      "text/plain": [
       "plot without title"
      ]
     },
     "metadata": {
      "image/png": {
       "height": 420,
       "width": 420
      }
     },
     "output_type": "display_data"
    }
   ],
   "source": [
    "tree.model<-tree(学历~.,data=traindata)\n",
    "plot(tree.model, type=\"uniform\")\n",
    "text(tree.model)"
   ]
  },
  {
   "cell_type": "code",
   "execution_count": 35,
   "id": "aeeb0f29",
   "metadata": {},
   "outputs": [
    {
     "name": "stderr",
     "output_type": "stream",
     "text": [
      "Warning message in pred1.tree(object, tree.matrix(newdata)):\n",
      "\"强制改变过程中产生了NA\"\n"
     ]
    }
   ],
   "source": [
    "train_predict=predict(tree.model,type=\"class\")\n",
    "test_predict=predict(tree.model,newdata=testdata,type=\"class\")"
   ]
  },
  {
   "cell_type": "code",
   "execution_count": 36,
   "id": "4abfbf4f",
   "metadata": {},
   "outputs": [],
   "source": [
    "train_predictdata=cbind(traindata,predictedclass=train_predict)\n",
    "train_confusion=table(actual=traindata$学历,predictedclass=train_predict)\n",
    "test_predictdata=cbind(testdata,predictedclass=test_predict)\n",
    "test_confusion=table(actual=testdata$学历,predictedclass=test_predict)"
   ]
  },
  {
   "cell_type": "code",
   "execution_count": 37,
   "id": "c02be0a8",
   "metadata": {},
   "outputs": [
    {
     "name": "stdout",
     "output_type": "stream",
     "text": [
      "                                           工作职称  发布时间         待遇\n",
      "1                                  大数据运维工程师 05-10发布 统计数据平台\n",
      "2                            大数据分析师（实习生） 05-26发布       互联网\n",
      "3   甘肃-IT-大客户销售经理/总监（政府、企业、金融） 04-17发布       计算机\n",
      "4                         WW-大客户销售经理（甘肃） 05-26发布     数据分析\n",
      "6                                大客户销售（兰州） 05-18发布     年终奖金\n",
      "12                数据开发工程师（LT11lxf）(J10451) 05-23发布         java\n",
      "13                           数据开发工程师（兰州） 05-22发布       hadoop\n",
      "14                                   软件数据分析师 05-26发布     存储过程\n",
      "15                                     数据统计专员 05-26发布     数据仓库\n",
      "16             初级数据实施工程师（JR11dy）(J10526) 05-23发布       oracle\n",
      "17                               海外财务经理G00955 05-12发布          etl\n",
      "18                                             商务 05-26发布         统计\n",
      "20                                 大数据运维工程师 05-10发布 统计数据平台\n",
      "22  甘肃-IT-大客户销售经理/总监（政府、企业、金融） 04-17发布       计算机\n",
      "23                        WW-大客户销售经理（甘肃） 05-26发布     数据分析\n",
      "24                                   大客户销售代表 05-25发布     五险一金\n",
      "25                               大客户销售（兰州） 05-18发布     年终奖金\n",
      "31                数据开发工程师（LT11lxf）(J10451) 05-23发布         java\n",
      "32                           数据开发工程师（兰州） 05-22发布       hadoop\n",
      "33                                   软件数据分析师 05-26发布     存储过程\n",
      "34                                     数据统计专员 05-26发布     数据仓库\n",
      "35             初级数据实施工程师（JR11dy）(J10526) 05-23发布       oracle\n",
      "37                                             商务 05-26发布         统计\n",
      "40                           大数据分析师（实习生） 05-26发布       互联网\n",
      "41  甘肃-IT-大客户销售经理/总监（政府、企业、金融） 04-17发布       计算机\n",
      "42                        WW-大客户销售经理（甘肃） 05-26发布     数据分析\n",
      "43                                   大客户销售代表 05-25发布     五险一金\n",
      "44                               大客户销售（兰州） 05-18发布     年终奖金\n",
      "50                数据开发工程师（LT11lxf）(J10451) 05-23发布         java\n",
      "52                                   软件数据分析师 05-26发布     存储过程\n",
      "53                                     数据统计专员 05-26发布     数据仓库\n",
      "56                                             商务 05-26发布         统计\n",
      "57                                           量体师 03-27发布         管理\n",
      "58                                 大数据运维工程师 05-10发布 统计数据平台\n",
      "59                           大数据分析师（实习生） 05-26发布       互联网\n",
      "60  甘肃-IT-大客户销售经理/总监（政府、企业、金融） 04-17发布       计算机\n",
      "61                        WW-大客户销售经理（甘肃） 05-26发布     数据分析\n",
      "62                                   大客户销售代表 05-25发布     五险一金\n",
      "63                               大客户销售（兰州） 05-18发布     年终奖金\n",
      "69                数据开发工程师（LT11lxf）(J10451) 05-23发布         java\n",
      "71                                   软件数据分析师 05-26发布     存储过程\n",
      "72                                     数据统计专员 05-26发布     数据仓库\n",
      "74                               海外财务经理G00955 05-12发布          etl\n",
      "75                                             商务 05-26发布         统计\n",
      "76                                           量体师 03-27发布         管理\n",
      "77                                 大数据运维工程师 05-10发布 统计数据平台\n",
      "79  甘肃-IT-大客户销售经理/总监（政府、企业、金融） 04-17发布       计算机\n",
      "82                               大客户销售（兰州） 05-18发布     年终奖金\n",
      "88                数据开发工程师（LT11lxf）(J10451) 05-23发布         java\n",
      "89                           数据开发工程师（兰州） 05-22发布       hadoop\n",
      "90                                   软件数据分析师 05-26发布     存储过程\n",
      "92             初级数据实施工程师（JR11dy）(J10526) 05-23发布       oracle\n",
      "93                               海外财务经理G00955 05-12发布          etl\n",
      "94                                             商务 05-26发布         统计\n",
      "95                                           量体师 03-27发布         管理\n",
      "96                                 大数据运维工程师 05-10发布 统计数据平台\n",
      "98  甘肃-IT-大客户销售经理/总监（政府、企业、金融） 04-17发布       计算机\n",
      "100                                  大客户销售代表 05-25发布     五险一金\n",
      "101                              大客户销售（兰州） 05-18发布     年终奖金\n",
      "107               数据开发工程师（LT11lxf）(J10451) 05-23发布         java\n",
      "108                          数据开发工程师（兰州） 05-22发布       hadoop\n",
      "109                                  软件数据分析师 05-26发布     存储过程\n",
      "110                                    数据统计专员 05-26发布     数据仓库\n",
      "112                              海外财务经理G00955 05-12发布          etl\n",
      "113                                            商务 05-26发布         统计\n",
      "114                                          量体师 03-27发布         管理\n",
      "115                                大数据运维工程师 05-10发布 统计数据平台\n",
      "117 甘肃-IT-大客户销售经理/总监（政府、企业、金融） 04-17发布       计算机\n",
      "118                       WW-大客户销售经理（甘肃） 05-26发布     数据分析\n",
      "119                                  大客户销售代表 05-25发布     五险一金\n",
      "126               数据开发工程师（LT11lxf）(J10451) 05-23发布         java\n",
      "128                                  软件数据分析师 05-26发布     存储过程\n",
      "129                                    数据统计专员 05-26发布     数据仓库\n",
      "130            初级数据实施工程师（JR11dy）(J10526) 05-23发布       oracle\n",
      "131                              海外财务经理G00955 05-12发布          etl\n",
      "132                                            商务 05-26发布         统计\n",
      "133                                          量体师 03-27发布         管理\n",
      "     薪资 学历 经验        地区 predictedclass\n",
      "1   41958 本科    0 北京·朝阳区           本科\n",
      "2    8000 大专    1        兰州           大专\n",
      "3   22500 本科    1        兰州           本科\n",
      "4   12500 大专    5 兰州·城关区           大专\n",
      "6   18000 大专    5        兰州           大专\n",
      "12  50333 本科    3        兰州           本科\n",
      "13  11000 本科    2        兰州           高中\n",
      "14  12000 大专    1        兰州           大专\n",
      "15   7000 大专    0        兰州           大专\n",
      "16  29000 本科    1        兰州           本科\n",
      "17  30000 本科    5 广州·天河区           本科\n",
      "18  20000 本科    2 兰州·城关区           本科\n",
      "20  41958 本科    0 北京·朝阳区           本科\n",
      "22  22500 本科    1        兰州           本科\n",
      "23  12500 大专    5 兰州·城关区           大专\n",
      "24  15000 大专    1 武汉·江岸区           大专\n",
      "25  18000 大专    5        兰州           大专\n",
      "31  50333 本科    3        兰州           本科\n",
      "32  11000 本科    2        兰州           高中\n",
      "33  12000 大专    1        兰州           大专\n",
      "34   7000 大专    0        兰州           大专\n",
      "35  29000 本科    1        兰州           本科\n",
      "37  20000 本科    2 兰州·城关区           本科\n",
      "40   8000 大专    1        兰州           大专\n",
      "41  22500 本科    1        兰州           本科\n",
      "42  12500 大专    5 兰州·城关区           大专\n",
      "43  15000 大专    1 武汉·江岸区           大专\n",
      "44  18000 大专    5        兰州           大专\n",
      "50  50333 本科    3        兰州           本科\n",
      "52  12000 大专    1        兰州           大专\n",
      "53   7000 大专    0        兰州           大专\n",
      "56  20000 本科    2 兰州·城关区           本科\n",
      "57   7500 高中    3 青岛·市南区           高中\n",
      "58  41958 本科    0 北京·朝阳区           本科\n",
      "59   8000 大专    1        兰州           大专\n",
      "60  22500 本科    1        兰州           本科\n",
      "61  12500 大专    5 兰州·城关区           大专\n",
      "62  15000 大专    1 武汉·江岸区           大专\n",
      "63  18000 大专    5        兰州           大专\n",
      "69  50333 本科    3        兰州           本科\n",
      "71  12000 大专    1        兰州           大专\n",
      "72   7000 大专    0        兰州           大专\n",
      "74  30000 本科    5 广州·天河区           本科\n",
      "75  20000 本科    2 兰州·城关区           本科\n",
      "76   7500 高中    3 青岛·市南区           高中\n",
      "77  41958 本科    0 北京·朝阳区           本科\n",
      "79  22500 本科    1        兰州           本科\n",
      "82  18000 大专    5        兰州           大专\n",
      "88  50333 本科    3        兰州           本科\n",
      "89  11000 本科    2        兰州           高中\n",
      "90  12000 大专    1        兰州           大专\n",
      "92  29000 本科    1        兰州           本科\n",
      "93  30000 本科    5 广州·天河区           本科\n",
      "94  20000 本科    2 兰州·城关区           本科\n",
      "95   7500 高中    3 青岛·市南区           高中\n",
      "96  41958 本科    0 北京·朝阳区           本科\n",
      "98  22500 本科    1        兰州           本科\n",
      "100 15000 大专    1 武汉·江岸区           大专\n",
      "101 18000 大专    5        兰州           大专\n",
      "107 50333 本科    3        兰州           本科\n",
      "108 11000 本科    2        兰州           高中\n",
      "109 12000 大专    1        兰州           大专\n",
      "110  7000 大专    0        兰州           大专\n",
      "112 30000 本科    5 广州·天河区           本科\n",
      "113 20000 本科    2 兰州·城关区           本科\n",
      "114  7500 高中    3 青岛·市南区           高中\n",
      "115 41958 本科    0 北京·朝阳区           本科\n",
      "117 22500 本科    1        兰州           本科\n",
      "118 12500 大专    5 兰州·城关区           大专\n",
      "119 15000 大专    1 武汉·江岸区           大专\n",
      "126 50333 本科    3        兰州           本科\n",
      "128 12000 大专    1        兰州           大专\n",
      "129  7000 大专    0        兰州           大专\n",
      "130 29000 本科    1        兰州           本科\n",
      "131 30000 本科    5 广州·天河区           本科\n",
      "132 20000 本科    2 兰州·城关区           本科\n",
      "133  7500 高中    3 青岛·市南区           高中\n"
     ]
    }
   ],
   "source": [
    "print(train_predictdata)"
   ]
  },
  {
   "cell_type": "code",
   "execution_count": 38,
   "id": "2c9bd843",
   "metadata": {},
   "outputs": [
    {
     "name": "stdout",
     "output_type": "stream",
     "text": [
      "      predictedclass\n",
      "actual 本科 大专 高中\n",
      "  本科   36    0    4\n",
      "  大专    0   32    0\n",
      "  高中    0    0    5\n"
     ]
    }
   ],
   "source": [
    "print(train_confusion)"
   ]
  },
  {
   "cell_type": "code",
   "execution_count": 39,
   "id": "4a091605",
   "metadata": {
    "scrolled": true
   },
   "outputs": [
    {
     "name": "stdout",
     "output_type": "stream",
     "text": [
      "                                工作职称  发布时间         待遇  薪资 学历 经验\n",
      "5                         大客户销售代表 05-25发布     五险一金 15000 大专    1\n",
      "19                                量体师 03-27发布         管理  7500 高中    3\n",
      "21                大数据分析师（实习生） 05-26发布       互联网  8000 大专    1\n",
      "36                    海外财务经理G00955 05-12发布          etl 30000 本科    5\n",
      "38                                量体师 03-27发布         管理  7500 高中    3\n",
      "39                      大数据运维工程师 05-10发布 统计数据平台 41958 本科    0\n",
      "51                数据开发工程师（兰州） 05-22发布       hadoop 11000 本科    2\n",
      "54  初级数据实施工程师（JR11dy）(J10526) 05-23发布       oracle 29000 本科    1\n",
      "55                    海外财务经理G00955 05-12发布          etl 30000 本科    5\n",
      "70                数据开发工程师（兰州） 05-22发布       hadoop 11000 本科    2\n",
      "73  初级数据实施工程师（JR11dy）(J10526) 05-23发布       oracle 29000 本科    1\n",
      "78                大数据分析师（实习生） 05-26发布       互联网  8000 大专    1\n",
      "80             WW-大客户销售经理（甘肃） 05-26发布     数据分析 12500 大专    5\n",
      "81                        大客户销售代表 05-25发布     五险一金 15000 大专    1\n",
      "91                          数据统计专员 05-26发布     数据仓库  7000 大专    0\n",
      "97                大数据分析师（实习生） 05-26发布       互联网  8000 大专    1\n",
      "99             WW-大客户销售经理（甘肃） 05-26发布     数据分析 12500 大专    5\n",
      "111 初级数据实施工程师（JR11dy）(J10526) 05-23发布       oracle 29000 本科    1\n",
      "116               大数据分析师（实习生） 05-26发布       互联网  8000 大专    1\n",
      "120                   大客户销售（兰州） 05-18发布     年终奖金 18000 大专    5\n",
      "127               数据开发工程师（兰州） 05-22发布       hadoop 11000 本科    2\n",
      "           地区 predictedclass\n",
      "5   武汉·江岸区           大专\n",
      "19  青岛·市南区           高中\n",
      "21         兰州           大专\n",
      "36  广州·天河区           本科\n",
      "38  青岛·市南区           高中\n",
      "39  北京·朝阳区           本科\n",
      "51         兰州           高中\n",
      "54         兰州           本科\n",
      "55  广州·天河区           本科\n",
      "70         兰州           高中\n",
      "73         兰州           本科\n",
      "78         兰州           大专\n",
      "80  兰州·城关区           大专\n",
      "81  武汉·江岸区           大专\n",
      "91         兰州           大专\n",
      "97         兰州           大专\n",
      "99  兰州·城关区           大专\n",
      "111        兰州           本科\n",
      "116        兰州           大专\n",
      "120        兰州           大专\n",
      "127        兰州           高中\n"
     ]
    }
   ],
   "source": [
    "print(test_predictdata)"
   ]
  },
  {
   "cell_type": "code",
   "execution_count": 40,
   "id": "874eb8f6",
   "metadata": {},
   "outputs": [
    {
     "name": "stdout",
     "output_type": "stream",
     "text": [
      "      predictedclass\n",
      "actual 本科 大专 高中\n",
      "  本科    6    0    3\n",
      "  大专    0   10    0\n",
      "  高中    0    0    2\n"
     ]
    }
   ],
   "source": [
    "print(test_confusion)"
   ]
  },
  {
   "cell_type": "markdown",
   "id": "52fa4d46",
   "metadata": {},
   "source": [
    "### 17.词云图绘制"
   ]
  },
  {
   "cell_type": "code",
   "execution_count": 41,
   "id": "77a2e02e",
   "metadata": {},
   "outputs": [],
   "source": [
    "library(wordcloud2)"
   ]
  },
  {
   "cell_type": "code",
   "execution_count": 43,
   "id": "6cc71d65",
   "metadata": {},
   "outputs": [],
   "source": [
    "g<-data2$待遇\n",
    "frep<-table(g)"
   ]
  },
  {
   "cell_type": "code",
   "execution_count": 44,
   "id": "4ed77846",
   "metadata": {},
   "outputs": [
    {
     "name": "stdout",
     "output_type": "stream",
     "text": [
      "g\n",
      "         etl       hadoop         java       oracle     存储过程         管理 \n",
      "           7            7            7            7            7            7 \n",
      "      互联网       计算机     年终奖金     数据仓库     数据分析         统计 \n",
      "           7            7            7            7            7            7 \n",
      "统计数据平台     五险一金 \n",
      "           7            7 \n"
     ]
    }
   ],
   "source": [
    "print(frep)"
   ]
  },
  {
   "cell_type": "code",
   "execution_count": 45,
   "id": "fee5bbec",
   "metadata": {},
   "outputs": [
    {
     "data": {
      "text/html": [
       "<!doctype html>\n",
       "<html>\n",
       "\t<head>\n",
       "\t\t<meta charset=\"utf-8\">\n",
       "\t\t<script title=\"htmlwidgets\" src=\"data:application/javascript;base64,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\"></script>\n",
       "<script title=\"wordcloud2\" src=\"data:application/javascript;base64,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\"></script>\n",
       "<script title=\"wordcloud2\" src=\"data:application/javascript;base64,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\"></script>\n",
       "<link href=\"data:text/css;charset-utf-8;base64,DQojd2NMYWJlbCB7DQogIHBvc2l0aW9uOiBhYnNvbHV0ZTsNCiAgYm9yZGVyOiAycHggc29saWQgI2ZmZjsNCiAgYm94LXNoYWRvdzogMCAwIDRweCAwICMwMDg7DQogIHBhZGRpbmc6IDJweDsNCiAgLyptYXJnaW46IC00cHggMCAwIC00cHg7Ki8NCiAgcG9pbnRlci1ldmVudHM6IG5vbmU7IH0NCg0KI3djU3BhbiB7DQogIHBvc2l0aW9uOiBhYnNvbHV0ZTsNCiAgdG9wOiAxMDAlOw0KICBsZWZ0OiAwOw0KICBiYWNrZ3JvdW5kLWNvbG9yOiByZ2JhKDI1NSwgMjU1LCAyNTUsIDAuOCk7DQogIGNvbG9yOiAjMzMzOw0KICBtYXJnaW4tdG9wOiA2cHg7DQogIHBhZGRpbmc6IDAgMC41ZW07DQogIGJvcmRlci1yYWRpdXM6IDAuNWVtOw0KICB3aGl0ZS1zcGFjZTogbm93cmFwOyB9DQo=\" rel=\"stylesheet\" />\n",
       "<script title=\"wordcloud2-binding\" src=\"data:application/javascript;base64,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\"></script>\n",
       "\t</head>\n",
       "\t<body>\n",
       "\t\t<div class=\"wordcloud2 html-widget html-fill-item-overflow-hidden html-fill-item\" id=\"htmlwidget-45fb13a8be463c5fb245\" style=\"width:960px;height:500px;\"></div>\n",
       "<script type=\"application/json\" data-for=\"htmlwidget-45fb13a8be463c5fb245\">{\"x\":{\"word\":[\"etl\",\"hadoop\",\"java\",\"oracle\",\"存储过程\",\"管理\",\"互联网\",\"计算机\",\"年终奖金\",\"数据仓库\",\"数据分析\",\"统计\",\"统计数据平台\",\"五险一金\"],\"freq\":[7,7,7,7,7,7,7,7,7,7,7,7,7,7],\"fontFamily\":\"Segoe UI\",\"fontWeight\":\"bold\",\"color\":\"random-light\",\"minSize\":0,\"weightFactor\":10.2857142857143,\"backgroundColor\":\"black\",\"gridSize\":0,\"minRotation\":-0.785398163397448,\"maxRotation\":0.785398163397448,\"shuffle\":true,\"rotateRatio\":0.4,\"shape\":\"circle\",\"ellipticity\":0.65,\"figBase64\":null,\"hover\":null},\"evals\":[],\"jsHooks\":{\"render\":[{\"code\":\"function(el,x){\\n                        console.log(123);\\n                        if(!iii){\\n                          window.location.reload();\\n                          iii = False;\\n\\n                        }\\n  }\",\"data\":null}]}}</script>\n",
       "\t</body>\n",
       "</html>\n"
      ],
      "text/plain": [
       "HTML widgets cannot be represented in plain text (need html)"
      ]
     },
     "metadata": {
      "text/html": {
       "isolated": true
      }
     },
     "output_type": "display_data"
    }
   ],
   "source": [
    "wordcloud2(frep, #数据\n",
    "           size=0.4,#字体大小\n",
    "           fontFamily = 'Segoe UI',#字体\n",
    "           fontWeight = 'bold',#字体粗细\n",
    "           color='random-light',#字体颜色设置\n",
    "           backgroundColor=\"black\"#背景颜色设置\n",
    "           )"
   ]
  },
  {
   "cell_type": "code",
   "execution_count": null,
   "id": "73bebe20",
   "metadata": {},
   "outputs": [],
   "source": []
  }
 ],
 "metadata": {
  "kernelspec": {
   "display_name": "R",
   "language": "R",
   "name": "ir"
  },
  "language_info": {
   "codemirror_mode": "r",
   "file_extension": ".r",
   "mimetype": "text/x-r-source",
   "name": "R",
   "pygments_lexer": "r",
   "version": "4.1.3"
  }
 },
 "nbformat": 4,
 "nbformat_minor": 5
}
